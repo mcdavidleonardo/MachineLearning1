{
 "cells": [
  {
   "cell_type": "markdown",
   "id": "a2d7d756-20d2-4c09-be22-37d6b4ee9e6c",
   "metadata": {},
   "source": [
    "<img src=\"img/Recurso-26.png\" width=\"200\"/>\n",
    "\n",
    "# CLASE 2: INTRODUCCIÓN A PYTHON\n",
    "![logo](img/python_logo.png)\n",
    "\n",
    "**Nombre:** David L. Mejía<br>\n",
    "**Fecha:** 25/06/2024<br>\n",
    "**Git:** https://github.com/mcdavidleonardo/MachineLearning1/blob/main/MachineLearningP1C2.ipynb<br>"
   ]
  },
  {
   "cell_type": "markdown",
   "id": "a1ba4a96-aa31-46da-89b9-186a303c54fa",
   "metadata": {},
   "source": [
    "# Comentarios"
   ]
  },
  {
   "cell_type": "markdown",
   "id": "6e5e77aa-c822-45d1-aa4d-3002f7dcbcfd",
   "metadata": {},
   "source": [
    "### ¿Qué son?\n",
    "\n",
    "Texto contenido en ficheros Python que es ignorado por el intérprete; es decir, no es ejecutado."
   ]
  },
  {
   "cell_type": "markdown",
   "id": "5079c608-2246-408b-8f3c-54cb0a46868b",
   "metadata": {},
   "source": [
    "### ¿Cuál es su utilidad?\n",
    "\n",
    "* Se puede utilizar para documentar código y hacerlo más legible\n",
    "\n",
    "* Preferiblemente, trataremos de hacer código fácil de entender y que necesite pocos comentarios, en lugar de vernos forzados a recurrir a los comentarios para explicar el código."
   ]
  },
  {
   "cell_type": "markdown",
   "id": "f916e406-84fe-4a8b-bc0e-6e885360f04e",
   "metadata": {},
   "source": [
    "### Tipos de comentarios\n",
    "\n",
    "**Comentarios de una línea**\n",
    "\n",
    "* Texto precedido por '#'\n",
    "* Se suele usar para documentar expresiones sencillas."
   ]
  },
  {
   "cell_type": "code",
   "execution_count": 3,
   "id": "a5542a23-4bdc-4be9-9a25-42404f50150e",
   "metadata": {},
   "outputs": [
    {
     "name": "stdout",
     "output_type": "stream",
     "text": [
      "Hello world\n"
     ]
    }
   ],
   "source": [
    "# Esto es una instrucción print\n",
    "print('Hello world')   # Esto es una instrucción print"
   ]
  },
  {
   "cell_type": "markdown",
   "id": "cabf0e75-c3d1-45d2-b082-2c66fbf3f9e1",
   "metadata": {},
   "source": [
    "**Comentarios de varias líneas**\n",
    "\n",
    "* Texto encapsulado en triples comillas (que pueden ser tanto comillas simples como dobles).\n",
    "* Se suele usar para documentar bloques de código más significativos."
   ]
  },
  {
   "cell_type": "code",
   "execution_count": 5,
   "id": "0a306f89-7ed2-4ec8-878c-0c6057d0fd73",
   "metadata": {},
   "outputs": [],
   "source": [
    "def producto(x, y):\n",
    " '''\n",
    "     Esta función recibe dos números como parámetros y devuelve\n",
    "    como resultado el producto de los mismos.\n",
    " '''\n",
    " return x * y"
   ]
  },
  {
   "cell_type": "markdown",
   "id": "64843e16-bb42-4929-95bf-491b7926a3fd",
   "metadata": {},
   "source": [
    "De forma muy genérica, al ejecutarse un programa Python, simplemente se realizan *operaciones* sobre *objetos*.\n",
    "\n",
    "Estos dos términos son fundamentales.\n",
    "\n",
    "* *Objetos*: cualquier tipo de datos (números, caracteres o datos más complejos).\n",
    "\n",
    "* *Operaciones*: cómo manipulamos estos datos.\n",
    "\n",
    "Ejemplo:"
   ]
  },
  {
   "cell_type": "code",
   "execution_count": 6,
   "id": "36778abc-8299-4c01-a393-994537902671",
   "metadata": {},
   "outputs": [
    {
     "data": {
      "text/plain": [
       "7"
      ]
     },
     "execution_count": 6,
     "metadata": {},
     "output_type": "execute_result"
    }
   ],
   "source": [
    "4+3\n"
   ]
  },
  {
   "cell_type": "markdown",
   "id": "6eace925-1b29-46c9-a601-7a40a09a459b",
   "metadata": {},
   "source": [
    "## Literales\n",
    "\n",
    "* Python tiene una serie de tipos de datos integrados en el propio lenguaje.\n",
    "* Los literales son expresiones que generan objetos de estos tipos.\n",
    "* Estos objetos, según su tipo, pueden ser:\n",
    "    * Simples o compuestos.\n",
    "    * Mutables o immutables."
   ]
  },
  {
   "cell_type": "markdown",
   "id": "d11aa476-82fd-4ffa-a438-9d7c879acfa5",
   "metadata": {},
   "source": [
    "#### Literales simples\n",
    "- Enteros\n",
    "- Decimales o punto flotante\n",
    "- Booleano"
   ]
  },
  {
   "cell_type": "code",
   "execution_count": 7,
   "id": "7809cd7b-8a89-451a-b9d2-73a2b848597c",
   "metadata": {},
   "outputs": [
    {
     "name": "stdout",
     "output_type": "stream",
     "text": [
      "4\n",
      "4.2\n",
      "Hello world!\n",
      "False\n"
     ]
    }
   ],
   "source": [
    "print(4)            # número entero\n",
    "print(4.2)          # número en coma flotante\n",
    "print('Hello world!')  # string\n",
    "print(False)"
   ]
  },
  {
   "cell_type": "markdown",
   "id": "fe64e746-a762-4965-95e5-9723a2a7262d",
   "metadata": {},
   "source": [
    "#### Literales compuestos\n",
    "- Tuplas\n",
    "- Listas\n",
    "- Diccionarios\n",
    "- Conjuntos"
   ]
  },
  {
   "cell_type": "code",
   "execution_count": 8,
   "id": "c26191fd-6f2d-46aa-8837-0f118b523ee5",
   "metadata": {},
   "outputs": [
    {
     "name": "stdout",
     "output_type": "stream",
     "text": [
      "[1, 2, 3, 3, 6, 1]\n",
      "{'Nombre': 'John Doe', 'edad': 30}\n",
      "{1, 2, 3, 4}\n",
      "(4, 5, 6)\n"
     ]
    },
    {
     "data": {
      "text/plain": [
       "(2, 4)"
      ]
     },
     "execution_count": 8,
     "metadata": {},
     "output_type": "execute_result"
    }
   ],
   "source": [
    "print([1, 2, 3, 3, 6, 1])                         # lista - mutable\n",
    "print({'Nombre' : 'John Doe', \"edad\": 30})  # Diccionario - mutable\n",
    "print({1, 2, 3, 3, 4, 2})                         # Conjunto - mutable\n",
    "print((4, 5, 6))                               # tupla - inmutable\n",
    "2, 4   "
   ]
  },
  {
   "cell_type": "markdown",
   "id": "40fd3ac5-9ff4-4556-80e1-a7d12c793207",
   "metadata": {},
   "source": [
    "## Variables\n",
    "\n",
    "* Referencias a objetos.\n",
    "* Las variables y los objetos se almacenan en diferentes zonas de memoria.\n",
    "* Las variables siempre referencian a objetos y nunca a otras variables.\n",
    "* Objetos sí que pueden referenciar a otros objetos. Ejemplo: listas."
   ]
  },
  {
   "cell_type": "markdown",
   "id": "16569249-089f-4541-b385-888061244823",
   "metadata": {},
   "source": [
    "<img src=\"img/variablereferences.png\" width=\"550\">"
   ]
  },
  {
   "cell_type": "markdown",
   "id": "b81cf753-e642-42b3-a7e8-ca0dc4a34d45",
   "metadata": {},
   "source": [
    "* Sentencia de asignación:\n",
    "\n",
    "```\n",
    "<nombre_variable> '=' <objeto>\n",
    "```"
   ]
  },
  {
   "cell_type": "code",
   "execution_count": 9,
   "id": "0b8c8ee8-eb43-41fc-aa75-cd6bc3ce70a4",
   "metadata": {},
   "outputs": [
    {
     "name": "stdout",
     "output_type": "stream",
     "text": [
      "5\n"
     ]
    }
   ],
   "source": [
    "#Asignación de variables\n",
    "a = 5\n",
    "print(a)"
   ]
  },
  {
   "cell_type": "code",
   "execution_count": 10,
   "id": "3ddfa6b3-0bb5-4942-bf3d-6c3d298a8470",
   "metadata": {},
   "outputs": [
    {
     "name": "stdout",
     "output_type": "stream",
     "text": [
      "1\n",
      "<class 'int'>\n",
      "4.0\n",
      "<class 'float'>\n",
      "VIU\n",
      "<class 'str'>\n",
      "(10+1j)\n",
      "<class 'complex'>\n",
      "True\n",
      "<class 'bool'>\n",
      "None\n",
      "<class 'NoneType'>\n"
     ]
    }
   ],
   "source": [
    "a = 1                 # entero\n",
    "b = 4.0               # coma flotante\n",
    "c = \"VIU\"             # string\n",
    "d = 10 + 1j           # numero complejo\n",
    "e = True  #False      # boolean\n",
    "f = None              # None\n",
    "\n",
    "# visualizar valor de las variables y su tipo\n",
    "print(a)\n",
    "print(type(a))\n",
    "\n",
    "print(b)\n",
    "print(type(b))\n",
    "\n",
    "print(c)\n",
    "print(type(c))\n",
    "\n",
    "print(d)\n",
    "print(type(d))\n",
    "\n",
    "print(e)\n",
    "print(type(e))\n",
    "\n",
    "print(f)\n",
    "print(type(f))"
   ]
  },
  {
   "cell_type": "markdown",
   "id": "530e0b64-3406-4f60-967f-837dd22983d8",
   "metadata": {},
   "source": [
    "* Las variables no tienen tipo.\n",
    "* Las variables apuntan a objetos que sí lo tienen.\n",
    "* Dado que Python es un lenguaje de tipado dinámico, la misma variable puede apuntar, en momentos diferentes de la ejecución del programa, a objetos de diferente tipo."
   ]
  },
  {
   "cell_type": "code",
   "execution_count": 11,
   "id": "1ffe65f1-bdfa-4c13-9a53-99dfde1c908b",
   "metadata": {},
   "outputs": [
    {
     "name": "stdout",
     "output_type": "stream",
     "text": [
      "3\n",
      "<class 'int'>\n",
      "Pablo García\n",
      "<class 'str'>\n",
      "4.5\n",
      "<class 'float'>\n"
     ]
    }
   ],
   "source": [
    "a = 3\n",
    "print(a)\n",
    "print(type(a))\n",
    "\n",
    "a = 'Pablo García'\n",
    "print(a)\n",
    "print(type(a))\n",
    "\n",
    "a = 4.5\n",
    "print(a)\n",
    "print(type(a))"
   ]
  },
  {
   "cell_type": "markdown",
   "id": "ef5c775b-d903-4346-988c-73555557ee5a",
   "metadata": {},
   "source": [
    "* *Garbage collection*: Cuando un objeto deja de estar referenciado, se elimina automáticamente. "
   ]
  },
  {
   "cell_type": "markdown",
   "id": "73e012d5-0da9-42ad-83d6-a974e747fe5c",
   "metadata": {},
   "source": [
    "#### Identificadores"
   ]
  },
  {
   "cell_type": "markdown",
   "id": "8b8f44b2-c604-4606-8f4b-ffb250c5e5bc",
   "metadata": {},
   "source": [
    "* Podemos obtener un identificador único para los objetos referenciados por variables.\n",
    "* Este identificador se obtiene a partir de la dirección de memoria."
   ]
  },
  {
   "cell_type": "code",
   "execution_count": 13,
   "id": "f6bcef0d-974b-499d-ab3a-77bb23a71082",
   "metadata": {},
   "outputs": [
    {
     "name": "stdout",
     "output_type": "stream",
     "text": [
      "140713125524456\n",
      "2339881382848\n",
      "2339880499856\n"
     ]
    }
   ],
   "source": [
    "a = 3\n",
    "print(id(a))\n",
    "\n",
    "a = 'Pablo García'\n",
    "print(id(a))\n",
    "\n",
    "a = 4.5\n",
    "print(id(a))"
   ]
  },
  {
   "cell_type": "markdown",
   "id": "22bcb6a7-9e9d-471c-9f15-33dd1ec5c379",
   "metadata": {},
   "source": [
    "* *Referencias compartidas*: un mismo objeto puede ser referenciado por más de una variable.\n",
    "\n",
    "    * Variables que referencian al mismo objeto tienen mismo identificador."
   ]
  },
  {
   "cell_type": "code",
   "execution_count": 14,
   "id": "8dad123b-e895-4c11-a059-9b480d1eb6a9",
   "metadata": {},
   "outputs": [
    {
     "name": "stdout",
     "output_type": "stream",
     "text": [
      "2339880499920\n"
     ]
    }
   ],
   "source": [
    "a = 4567\n",
    "print(id(a))\n"
   ]
  },
  {
   "cell_type": "code",
   "execution_count": 15,
   "id": "ba7501b3-a562-4755-b3b2-b8ce41ed8bdf",
   "metadata": {},
   "outputs": [
    {
     "name": "stdout",
     "output_type": "stream",
     "text": [
      "2339880499920\n"
     ]
    }
   ],
   "source": [
    "b = a\n",
    "print(id(b))"
   ]
  },
  {
   "cell_type": "code",
   "execution_count": 16,
   "id": "3f1883eb-0d23-4b5f-8330-3b20eb4ae9cf",
   "metadata": {},
   "outputs": [
    {
     "name": "stdout",
     "output_type": "stream",
     "text": [
      "2339880500496\n"
     ]
    }
   ],
   "source": [
    "c = 4567\n",
    "print(id(c))"
   ]
  },
  {
   "cell_type": "code",
   "execution_count": 19,
   "id": "2d0ff3c9-eebf-43dc-9554-62d7a807b409",
   "metadata": {},
   "outputs": [
    {
     "name": "stdout",
     "output_type": "stream",
     "text": [
      "140713125525160\n",
      "140713125525160\n",
      "140713125525160\n",
      "140713125525160\n"
     ]
    }
   ],
   "source": [
    "a = 25\n",
    "b = 25\n",
    "c = 25\n",
    "\n",
    "print(id(a))\n",
    "print(id(b))\n",
    "print(id(25))\n",
    "print(id(c))"
   ]
  },
  {
   "cell_type": "code",
   "execution_count": 21,
   "id": "eaee39b0-cf27-46ad-a32b-ac88217f6ba5",
   "metadata": {},
   "outputs": [
    {
     "name": "stdout",
     "output_type": "stream",
     "text": [
      "2339880500400\n",
      "2339880500176\n",
      "2339880500720\n"
     ]
    }
   ],
   "source": [
    "# Ojo con los enteros \"grandes\". Del [-5, 256] son enteros pequeños\n",
    "a = 258\n",
    "b = 258\n",
    "\n",
    "print(id(a))\n",
    "print(id(b))\n",
    "print(id(258))"
   ]
  },
  {
   "cell_type": "markdown",
   "id": "71a43364-2d61-44b8-b8ab-f2ed73747466",
   "metadata": {},
   "source": [
    "* Referencia al mismo objeto a través de asignar una variable a otra."
   ]
  },
  {
   "cell_type": "code",
   "execution_count": 22,
   "id": "d2c19129-629a-447f-ae80-e81e119c7dc1",
   "metadata": {},
   "outputs": [
    {
     "name": "stdout",
     "output_type": "stream",
     "text": [
      "2339880500592\n",
      "2339880500592\n"
     ]
    }
   ],
   "source": [
    "a = 400\n",
    "b = a\n",
    "print(id(a))\n",
    "print(id(b))"
   ]
  },
  {
   "cell_type": "markdown",
   "id": "b88bd87c-78e8-4a3b-a73f-54df7fd894da",
   "metadata": {},
   "source": [
    "* Las variables pueden aparecer en expresiones."
   ]
  },
  {
   "cell_type": "code",
   "execution_count": 23,
   "id": "d3fe9c6e-477f-441e-9533-d35428d8487c",
   "metadata": {},
   "outputs": [
    {
     "name": "stdout",
     "output_type": "stream",
     "text": [
      "8\n"
     ]
    }
   ],
   "source": [
    "a = 3\n",
    "b = 5\n",
    "c=a+b\n",
    "print (a + b)"
   ]
  },
  {
   "cell_type": "code",
   "execution_count": 24,
   "id": "1be11cbd-be4c-47e8-886b-f6ea66cee4ac",
   "metadata": {},
   "outputs": [
    {
     "name": "stdout",
     "output_type": "stream",
     "text": [
      "8\n",
      "140713125524616\n"
     ]
    }
   ],
   "source": [
    "c = a + b\n",
    "print(c)\n",
    "print(id(c))"
   ]
  },
  {
   "cell_type": "markdown",
   "id": "fe104bc9-6d69-4c27-8aee-58fb38c3ef0d",
   "metadata": {},
   "source": [
    "#### Respecto a los nombres de las variables ...\n",
    "\n",
    "* No se puede poner números delante del nombre de las variables.\n",
    "* Por convención, evitar *CamelCase*. Mejor usar *snake_case*: uso de \"_\" para separar palabras.\n",
    "* El lenguaje diferencia entre mayúsculas y minúsculas.\n",
    "* Deben ser descriptivos.\n",
    "* Hay palabras o métodos reservados -> [Built-ins](https://docs.python.org/3/library/functions.html) y [KeyWords](https://docs.python.org/3/reference/lexical_analysis.html#keywords)\n",
    "    * **Ojo** con reasignar un nombre reservado!"
   ]
  },
  {
   "cell_type": "code",
   "execution_count": 36,
   "id": "75a52700-677d-49f0-9282-e2d396a7ca08",
   "metadata": {},
   "outputs": [
    {
     "name": "stdout",
     "output_type": "stream",
     "text": [
      "6\n"
     ]
    }
   ],
   "source": [
    "# Potencia\n",
    "print(pow(3,3))\n"
   ]
  },
  {
   "cell_type": "code",
   "execution_count": 35,
   "id": "241a195f-2b2c-49e6-84ba-401912401261",
   "metadata": {},
   "outputs": [
    {
     "name": "stdout",
     "output_type": "stream",
     "text": [
      "5\n",
      "5\n"
     ]
    }
   ],
   "source": [
    "print(pow(3,2))\n",
    "\n",
    "# Da error porque pow es una palabra reservada y se le esta reasignando a que sea igual a 1\n",
    "# pow = 1  # built-in reasignado\n",
    "# print(pow)\n",
    "\n",
    "print(pow(3,2))"
   ]
  },
  {
   "cell_type": "code",
   "execution_count": 37,
   "id": "6ec1f28b-be9d-404f-b9e9-d13243cfe8be",
   "metadata": {},
   "outputs": [],
   "source": [
    "# En lugar de potencia ahora pow suma dos numeros\n",
    "def pow(a, b):\n",
    "     return a + b"
   ]
  },
  {
   "cell_type": "code",
   "execution_count": 40,
   "id": "909b02fd-09e4-4eb8-8a42-83b9aab01360",
   "metadata": {},
   "outputs": [
    {
     "name": "stdout",
     "output_type": "stream",
     "text": [
      "9\n",
      "9\n"
     ]
    }
   ],
   "source": [
    "# Para dejar pow como funcion original se tiene dos opciones\n",
    "# Eliminar la variable pow\n",
    "# del pow\n",
    "print(pow(3,2))\n",
    "\n",
    "# Importar la definicion de la libreria global\n",
    "import builtins\n",
    "pow = builtins.pow\n",
    "print(pow(3,2))"
   ]
  },
  {
   "cell_type": "markdown",
   "id": "8fa52385-18b1-425b-b876-3ce392d35dfd",
   "metadata": {},
   "source": [
    "#### Asignación múltiple de variables"
   ]
  },
  {
   "cell_type": "code",
   "execution_count": 42,
   "id": "4feb1c94-9783-41e0-87a3-56b337c7e2da",
   "metadata": {},
   "outputs": [
    {
     "name": "stdout",
     "output_type": "stream",
     "text": [
      "1 2 3\n",
      "(1, 2, 3, 7, 'Python')\n",
      "<class 'tuple'>\n"
     ]
    }
   ],
   "source": [
    "x, y, z = 1, 2, 3\n",
    "print(x, y, z)\n",
    "\n",
    "t = x, y, z, 7, \"Python\"\n",
    "print(t)\n",
    "print(type(t))"
   ]
  },
  {
   "cell_type": "markdown",
   "id": "cec05ada-7237-4207-a89c-447c68cb6f5e",
   "metadata": {},
   "source": [
    "* Esta técnica tiene un uso interesante: el intercambio de valores entre dos variables."
   ]
  },
  {
   "cell_type": "code",
   "execution_count": 43,
   "id": "c0a26a4e-39ef-4e73-9d80-dd98ffe8336e",
   "metadata": {},
   "outputs": [
    {
     "name": "stdout",
     "output_type": "stream",
     "text": [
      "2 1\n"
     ]
    }
   ],
   "source": [
    "a = 1\n",
    "b = 2\n",
    "\n",
    "a, b = b, a\n",
    "print(a, b)"
   ]
  },
  {
   "cell_type": "code",
   "execution_count": 44,
   "id": "9062066c-39cd-4668-a941-042759fe61b7",
   "metadata": {},
   "outputs": [
    {
     "name": "stdout",
     "output_type": "stream",
     "text": [
      "2 1\n"
     ]
    }
   ],
   "source": [
    "a = 1\n",
    "b = 2\n",
    "\n",
    "c = a\n",
    "a = b\n",
    "b = c\n",
    "print(a, b)"
   ]
  },
  {
   "cell_type": "markdown",
   "id": "36de71c7-73e6-4939-901c-491acbc17f75",
   "metadata": {},
   "source": [
    "## Tipos de datos básicos"
   ]
  },
  {
   "cell_type": "markdown",
   "id": "0cdac01e-cc4d-42fe-b785-07a7cafb8eb0",
   "metadata": {},
   "source": [
    "#### Bool"
   ]
  },
  {
   "cell_type": "markdown",
   "id": "a679fc08-c2cf-49ab-9768-50a25d97c71d",
   "metadata": {},
   "source": [
    "* 2 posibles valores: 'True' o 'False'."
   ]
  },
  {
   "cell_type": "code",
   "execution_count": 45,
   "id": "82f6c1fe-ebe0-4048-b058-cc7ce08260d1",
   "metadata": {},
   "outputs": [
    {
     "name": "stdout",
     "output_type": "stream",
     "text": [
      "False\n",
      "<class 'bool'>\n",
      "True\n",
      "<class 'bool'>\n"
     ]
    }
   ],
   "source": [
    "a = False\n",
    "b = True\n",
    "\n",
    "print(a)\n",
    "print(type(a))\n",
    "\n",
    "print(b)\n",
    "print(type(b))"
   ]
  },
  {
   "cell_type": "markdown",
   "id": "f480ae16-536c-4eee-9928-44bcc8be6e8b",
   "metadata": {},
   "source": [
    "* 'True' y 'False' también son objetos que se guardan en caché, al igual que los enteros pequeños."
   ]
  },
  {
   "cell_type": "code",
   "execution_count": 46,
   "id": "e1a1dfaf-52fd-4c7e-a592-5495db1fff76",
   "metadata": {},
   "outputs": [
    {
     "name": "stdout",
     "output_type": "stream",
     "text": [
      "140713124612576\n",
      "140713124612576\n",
      "True\n",
      "True\n"
     ]
    }
   ],
   "source": [
    "a = True\n",
    "b = True\n",
    "\n",
    "print(id(a))\n",
    "print(id(b))\n",
    "\n",
    "print(a is b)\n",
    "print(a == b)"
   ]
  },
  {
   "cell_type": "markdown",
   "id": "a8055741-b15f-438c-abd0-c8ba4c35dea8",
   "metadata": {},
   "source": [
    "#### Números"
   ]
  },
  {
   "cell_type": "code",
   "execution_count": 47,
   "id": "cac76e34-af4b-469e-94de-7a272d1c9ef9",
   "metadata": {},
   "outputs": [
    {
     "name": "stdout",
     "output_type": "stream",
     "text": [
      "2\n",
      "3.4\n",
      "(2+4j)\n",
      "0.5\n"
     ]
    }
   ],
   "source": [
    "print(2)     # Enteros, sin parte fraccional.\n",
    "print(3.4)   # Números en coma flotante, con parte fraccional.\n",
    "print(2+4j)  # Números complejos.\n",
    "print(1/2)   # Numeros racionales."
   ]
  },
  {
   "cell_type": "markdown",
   "id": "7889791a-bbb7-4da4-92f5-f887d2b9e995",
   "metadata": {},
   "source": [
    "* Diferentes representaciones: base 10, 2, 8, 16."
   ]
  },
  {
   "cell_type": "code",
   "execution_count": 48,
   "id": "5e159856-f393-4645-a8f0-5228a0c4b701",
   "metadata": {},
   "outputs": [
    {
     "name": "stdout",
     "output_type": "stream",
     "text": [
      "True\n"
     ]
    }
   ],
   "source": [
    "x = 58          # decimal\n",
    "z = 0b00111010  # binario\n",
    "w = 0o72        # octal\n",
    "y = 0x3A        # hexadecimal\n",
    "\n",
    "print(x == y == z == w)"
   ]
  },
  {
   "cell_type": "markdown",
   "id": "ddafc026-3e4d-47a8-850f-a508f4b9d1d7",
   "metadata": {},
   "source": [
    "#### Strings"
   ]
  },
  {
   "cell_type": "markdown",
   "id": "54e82599-8cfc-4345-a6f2-5cfced0a9336",
   "metadata": {},
   "source": [
    "* Cadenas de caracteres.\n",
    "* Son *secuencias*: la posición de los caracteres es importante.\n",
    "* Son immutables: las operaciones sobre strings no cambian el string original."
   ]
  },
  {
   "cell_type": "code",
   "execution_count": 4,
   "id": "a8da038e-67d3-40c3-b351-8e1ad0ff8a99",
   "metadata": {},
   "outputs": [
    {
     "name": "stdout",
     "output_type": "stream",
     "text": [
      "J\n",
      "e\n",
      "on\"e\n",
      "John \"ee\" Doe\n",
      "John \"ee\" Doee\n"
     ]
    }
   ],
   "source": [
    "s = 'John \"ee\" Doe'\n",
    "print(s[0])     # Primer carácter del string.\n",
    "print(s[-1])    # Último carácter del string.\n",
    "\n",
    "# Esta línea imprime una porción de la cadena s determinada por los índices y el paso especificados dentro de los corchetes [].\n",
    "# 1 (índice de inicio): El slice comienza en el índice 1 (el segundo carácter de la cadena, ya que la indexación en Python comienza en 0). En este caso, el carácter en el índice 1 es 'o'.\n",
    "# 8 (índice de fin): El slice termina antes del índice 8. Es decir, incluye los caracteres hasta el índice 7 (inclusive). El carácter en el índice 7 es '\"'.\n",
    "# 2 (paso): El slice toma cada segundo carácter dentro del rango especificado.\n",
    "# Por lo tanto, el código extrae los caracteres en los índices 1, 3, 5 y 7 de la cadena s\n",
    "print(s[1:8:2]) # Substring desde el segundo carácter (inclusive) hasta el octavo (exclusive). Esta técnica se la conoce como 'slicing'.\n",
    "print(s[:])     # Todo el string.\n",
    "print(s + \"e\")  # Concatenación."
   ]
  },
  {
   "cell_type": "markdown",
   "id": "f22155b8-793a-4b24-8574-b912c95f69ba",
   "metadata": {},
   "source": [
    "## Conversión entre tipos"
   ]
  },
  {
   "cell_type": "markdown",
   "id": "0bb12057-353b-408e-90b2-89da6cb3482a",
   "metadata": {},
   "source": [
    "* A veces queremos que un objeto sea de un tipo específico. \n",
    "* Podemos obtener objetos de un tipo a partir de objetos de un tipo diferente (*casting*)."
   ]
  },
  {
   "cell_type": "code",
   "execution_count": 55,
   "id": "bdc2fb65-98ad-40cf-b387-821a147b2120",
   "metadata": {},
   "outputs": [
    {
     "name": "stdout",
     "output_type": "stream",
     "text": [
      "2\n",
      "<class 'int'>\n",
      "3\n",
      "<class 'int'>\n",
      "1.0\n",
      "<class 'float'>\n",
      "3.0\n",
      "<class 'float'>\n",
      "2\n",
      "<class 'str'>\n",
      "3.0\n",
      "<class 'str'>\n",
      "True\n",
      "<class 'bool'>\n",
      "False\n",
      "<class 'bool'>\n",
      "True\n",
      "<class 'bool'>\n",
      "False\n",
      "<class 'bool'>\n",
      "False\n"
     ]
    }
   ],
   "source": [
    "a = int(2.8)    # a será 2\n",
    "b = int(\"3\")    # b será 3\n",
    "c = float(1)    # c será 1.0\n",
    "d = float(\"3\")  # d será 3.0\n",
    "e = str(2)      # e será '2'\n",
    "f = str(3.0)    # f será '3.0'\n",
    "g = bool(\"a\")   # g será True\n",
    "h = bool(\"\")    # h será False\n",
    "# Cualquier número diferente de cero o cadena no vacia se considera \"verdadero\"\n",
    "# El 0 o vacio es falso\n",
    "i = bool(3)     # i será True\n",
    "j = bool(0)     # j será False\n",
    "k = bool(None)\n",
    "\n",
    "print(a)\n",
    "print(type(a))\n",
    "print(b)\n",
    "print(type(b))\n",
    "print(c)\n",
    "print(type(c))\n",
    "print(d)\n",
    "print(type(d))\n",
    "print(e)\n",
    "print(type(e))\n",
    "print(f)\n",
    "print(type(f))\n",
    "print(g)\n",
    "print(type(g))\n",
    "print(h)\n",
    "print(type(h))\n",
    "print(i)\n",
    "print(type(i))\n",
    "print(j)\n",
    "print(type(j))\n",
    "print(k)"
   ]
  },
  {
   "cell_type": "code",
   "execution_count": 56,
   "id": "4bcc10a7-0369-455d-a0ac-6e009102cb85",
   "metadata": {},
   "outputs": [
    {
     "name": "stdout",
     "output_type": "stream",
     "text": [
      "1.75\n",
      "1\n",
      "1\n"
     ]
    }
   ],
   "source": [
    "print(7/4)       # División convencional. Resultado de tipo 'float'\n",
    "print(7//4)      # División entera. Resultado de tipo 'int'\n",
    "print(int(7/4))  # Divisón convencional. Conversión del resultado de 'float' a 'int'"
   ]
  },
  {
   "cell_type": "markdown",
   "id": "781f8fb4-be36-4eee-8ded-6299fbae9ed4",
   "metadata": {},
   "source": [
    "## Operadores\n",
    "[Python3 precedencia en operaciones](https://docs.python.org/3/reference/expressions.html#operator-precedence)\n",
    "\n",
    "- Combinación de valores, variables y operadores\n",
    "- Operadores y operandos"
   ]
  },
  {
   "cell_type": "markdown",
   "id": "8c3eb537-308c-4aab-94e4-0f47de9e6bd2",
   "metadata": {},
   "source": [
    "#### Operatores aritméticos\n",
    "\n",
    "| Operador | Desc |\n",
    "|:---------|:-----|\n",
    "| a + b    | Suma |\n",
    "| a - b    | Resta |\n",
    "| a / b    | División |\n",
    "| a // b   | División Entera |\n",
    "| a % b    | Modulo / Resto |\n",
    "| a * b    | Multiplicacion |\n",
    "| a ** b   | Exponenciación |"
   ]
  },
  {
   "cell_type": "code",
   "execution_count": 57,
   "id": "43a54066-669f-4d09-b9e9-61e8bf058e82",
   "metadata": {},
   "outputs": [
    {
     "name": "stdout",
     "output_type": "stream",
     "text": [
      "x + y =  5\n",
      "x - y =  1\n",
      "x * y =  6\n",
      "x / y =  1.5\n",
      "x // y =  1\n",
      "x % y =  1\n",
      "x ** y =  9\n"
     ]
    }
   ],
   "source": [
    "x = 3\n",
    "y = 2\n",
    "\n",
    "print('x + y = ', x + y)\n",
    "print('x - y = ', x - y)\n",
    "print('x * y = ', x * y)\n",
    "print('x / y = ', x / y)\n",
    "print('x // y = ', x // y)\n",
    "print('x % y = ', x % y)\n",
    "print('x ** y = ', x ** y)"
   ]
  },
  {
   "cell_type": "markdown",
   "id": "43cdf9cb-950c-484c-889d-3455cdc96f31",
   "metadata": {},
   "source": [
    "#### Operadores de comparación\n",
    "\n",
    "| Operador | Desc |\n",
    "|:---------|:-----|\n",
    "| a > b    | Mayor |\n",
    "| a < b    | Menor |\n",
    "| a == b    | Igualdad |\n",
    "| a != b   | Desigualdad |\n",
    "| a >= b    | Mayor o Igual |\n",
    "| a <= b    | Menor o Igual |"
   ]
  },
  {
   "cell_type": "code",
   "execution_count": 58,
   "id": "cc30dd5c-a09b-46f9-aff6-447e00bd2450",
   "metadata": {},
   "outputs": [
    {
     "name": "stdout",
     "output_type": "stream",
     "text": [
      "x > y  es  False\n",
      "x < y  es  True\n",
      "x == y es  False\n",
      "x != y es  True\n",
      "x >= y es  False\n",
      "x <= y es  True\n"
     ]
    }
   ],
   "source": [
    "x = 10\n",
    "y = 12\n",
    "\n",
    "print('x > y  es ', x > y)\n",
    "print('x < y  es ', x < y)\n",
    "print('x == y es ', x == y)\n",
    "print('x != y es ', x != y)\n",
    "print('x >= y es ', x >= y)\n",
    "print('x <= y es ', x <= y)"
   ]
  },
  {
   "cell_type": "markdown",
   "id": "6e5a8de1-6cbe-4e84-9c64-d7c232169d28",
   "metadata": {},
   "source": [
    "#### Operadores Lógicos\n",
    "\n",
    "\n",
    "| Operador | Desc |\n",
    "|:---------|:-----|\n",
    "| a and b  | True, si ambos son True |\n",
    "| a or b   | True, si alguno de los dos es True |\n",
    "| a ^ b   | XOR - True, si solo uno de los dos es True |\n",
    "| not a    | Negación |"
   ]
  },
  {
   "cell_type": "markdown",
   "id": "5052ff5a-3353-489b-a085-819f7bf75b55",
   "metadata": {},
   "source": [
    "Enlace a [Tablas de Verdad](https://en.wikipedia.org/wiki/Truth_table)."
   ]
  },
  {
   "cell_type": "code",
   "execution_count": 59,
   "id": "d3b9c2b2-1d85-432c-b561-180561de1894",
   "metadata": {},
   "outputs": [
    {
     "name": "stdout",
     "output_type": "stream",
     "text": [
      "x and y es : False\n",
      "x or y es  : True\n",
      "x xor y es  : True\n",
      "not x es   : False\n"
     ]
    }
   ],
   "source": [
    "x = True\n",
    "y = False\n",
    "\n",
    "print('x and y es :', x and y)\n",
    "print('x or y es  :', x or y)\n",
    "print('x xor y es  :', x ^ y)\n",
    "print('not x es   :', not x)"
   ]
  },
  {
   "cell_type": "markdown",
   "id": "da1c7c1d-ddcb-4a3c-9fbc-79d17f6b000c",
   "metadata": {},
   "source": [
    "#### Operadores Bitwise / Binarios\n",
    "\n",
    "| Operador | Desc |\n",
    "|:---------|:-----|\n",
    "| a & b  | And binario |\n",
    "| a \\| b   | Or binario |\n",
    "| a ^ b   | Xor binario |\n",
    "| ~ a    | Not binario |\n",
    "| a >> b   | Desplazamiento binario a derecha |\n",
    "| a << b   | Desplazamiento binario a izquierda |"
   ]
  },
  {
   "cell_type": "code",
   "execution_count": 60,
   "id": "21408e2e-e74f-4ac0-b9b1-a923a38d59d3",
   "metadata": {},
   "outputs": [
    {
     "name": "stdout",
     "output_type": "stream",
     "text": [
      "Not x = -0b1100111\n",
      "x and y = 0b100010\n",
      "x or y = 0b1110111\n",
      "x xor y = 0b1010101\n",
      "x << 2 = 0b110011000\n",
      "x >> 2 = 0b11001\n"
     ]
    }
   ],
   "source": [
    "x = 0b01100110\n",
    "y = 0b00110011\n",
    "print(\"Not x = \" + bin(~x))\n",
    "print(\"x and y = \" + bin(x & y))\n",
    "print(\"x or y = \" + bin(x | y))\n",
    "print(\"x xor y = \" + bin(x ^ y))\n",
    "print(\"x << 2 = \" + bin(x << 2))\n",
    "print(\"x >> 2 = \" + bin(x >> 2))"
   ]
  },
  {
   "cell_type": "markdown",
   "id": "8fed1a7d-4e00-4a67-9c38-51a821304f4c",
   "metadata": {},
   "source": [
    "#### Operadores de Asignación\n",
    "\n",
    "| Operador | Desc |\n",
    "|:---------|:-----|\n",
    "| =   | Asignación |\n",
    "| +=  | Suma y asignación |\n",
    "| -=  | Resta y asignación|\n",
    "| *=  | Multiplicación y asignación |\n",
    "| /=  | División y asignación |\n",
    "| %=  | Módulo y asignación |\n",
    "| //= | División entera y asignación |\n",
    "| **= | Exponencial y asignación |\n",
    "| &=  | And y asignación |\n",
    "| \\|=  | Or y asignación |\n",
    "| ^=  | Xor y asignación |\n",
    "| >>= | Despl. Derecha y asignación |\n",
    "| <<= | DEspl. Izquierda y asignación |"
   ]
  },
  {
   "cell_type": "code",
   "execution_count": 61,
   "id": "5093a74d-6371-4b2a-82f5-92296c1cab6d",
   "metadata": {},
   "outputs": [
    {
     "name": "stdout",
     "output_type": "stream",
     "text": [
      "16\n",
      "4\n"
     ]
    }
   ],
   "source": [
    "a = 5\n",
    "a *= 3   # a = a * 3\n",
    "a += 1   # No existe a++, ni ++a\n",
    "print(a)\n",
    "\n",
    "b = 6\n",
    "b -= 2   # b = b - 2\n",
    "print(b)"
   ]
  },
  {
   "cell_type": "markdown",
   "id": "4d05ec3a-d78e-4c90-9f06-655a354296b8",
   "metadata": {},
   "source": [
    "#### Operadores de Identidad\n",
    "\n",
    "| Operador | Desc |\n",
    "|:---------|:-----|\n",
    "| a is b  | True, si ambos operadores son una referencia al mismo objeto |\n",
    "| a is not b | True, si ambos operadores *no* son una referencia al mismo objeto |"
   ]
  },
  {
   "cell_type": "code",
   "execution_count": 62,
   "id": "c13b16fb-f274-46c4-bce0-46b3032cdab8",
   "metadata": {},
   "outputs": [
    {
     "name": "stdout",
     "output_type": "stream",
     "text": [
      "True\n",
      "False\n"
     ]
    }
   ],
   "source": [
    "a = 4444\n",
    "b = a\n",
    "print(a is b)\n",
    "print(a is not b)"
   ]
  },
  {
   "cell_type": "markdown",
   "id": "238ce290-65ab-4975-88fb-27215bfdec57",
   "metadata": {},
   "source": [
    "#### Operadores de Pertenencia\n",
    "\n",
    "| Operador | Desc |\n",
    "|:---------|:-----|\n",
    "| a in b  | True, si *a* se encuentra en la secuencia *b* |\n",
    "| a not in b | True, si *a* no se encuentra en la secuencia *b* |"
   ]
  },
  {
   "cell_type": "code",
   "execution_count": 64,
   "id": "3d5a0e0a-c0d6-4148-b137-aacca792fcb3",
   "metadata": {},
   "outputs": [
    {
     "name": "stdout",
     "output_type": "stream",
     "text": [
      "True\n",
      "True\n",
      "True\n",
      "False\n"
     ]
    }
   ],
   "source": [
    "x = 'Hola Mundo'\n",
    "y = {1:'a',2:'b'}\n",
    "\n",
    "print('H' in x)         # True\n",
    "print('hola' not in x)  # True\n",
    "\n",
    "print(1 in y)           # Devuelve True porque 1 es una clave en el diccionario\n",
    "print('a' in y)         # Devuelve False porque 'a' es un valor, no una clave, en el diccionario"
   ]
  },
  {
   "cell_type": "markdown",
   "id": "0ee845c3-aea3-4957-a2f7-7e69fc38f572",
   "metadata": {},
   "source": [
    "## Entrada de valores"
   ]
  },
  {
   "cell_type": "code",
   "execution_count": 65,
   "id": "85857dd7-3c17-40df-b8a9-7ed60889fc8e",
   "metadata": {},
   "outputs": [
    {
     "name": "stdin",
     "output_type": "stream",
     "text": [
      "Inserte valor: hola mundo\n"
     ]
    },
    {
     "name": "stdout",
     "output_type": "stream",
     "text": [
      "hola mundo\n"
     ]
    }
   ],
   "source": [
    "valor = input(\"Inserte valor:\")\n",
    "print(valor)"
   ]
  },
  {
   "cell_type": "code",
   "execution_count": 66,
   "id": "a7455d95-ac4f-42ed-901a-65150de1b3ad",
   "metadata": {},
   "outputs": [
    {
     "name": "stdin",
     "output_type": "stream",
     "text": [
      "Conversión de grados a fahrenheit, inserte un valor:  40\n"
     ]
    },
    {
     "name": "stdout",
     "output_type": "stream",
     "text": [
      "Grados F: 104.0\n"
     ]
    }
   ],
   "source": [
    "grados_c = input(\"Conversión de grados a fahrenheit, inserte un valor: \")\n",
    "print(f\"Grados F: {1.8 * int(grados_c) + 32}\")"
   ]
  },
  {
   "cell_type": "markdown",
   "id": "57de152c-e43e-4321-900b-8818606bc2f2",
   "metadata": {},
   "source": [
    "# Tipos de datos compuestos (colecciones)"
   ]
  },
  {
   "cell_type": "markdown",
   "id": "295e178d-f9b2-46ed-bd00-0495dbdca50d",
   "metadata": {},
   "source": [
    "## Listas\n",
    "\n",
    "* Una colección de objetos.\n",
    "* Mutables.\n",
    "* Tipos arbitrarios heterogeneos.\n",
    "* Puede contener duplicados.\n",
    "* No tienen tamaño fijo. Pueden contener tantos elementos como quepan en memoria.\n",
    "* Los elementos van ordenados por posición.\n",
    "* Se acceden usando la sintaxis: **[index]**.\n",
    "* Los índices van de *0* a *n-1*, donde *n* es el número de elementos de la lista.\n",
    "* Son un tipo de *Secuencia*, al igual que los strings; por lo tanto, el orden (es decir, la posición de los objetos de la lista) es importante.\n",
    "* Soportan anidamiento.\n",
    "* Son una implementación del tipo abstracto de datos: *Array Dinámico*."
   ]
  },
  {
   "cell_type": "markdown",
   "id": "ff3d3955-1480-42cc-8452-ae962fa7d446",
   "metadata": {},
   "source": [
    "<img src=\"img/data_types/list.png\" width=\"800\">"
   ]
  },
  {
   "cell_type": "markdown",
   "id": "750d1983-37d9-4db0-932e-7856f27013b5",
   "metadata": {},
   "source": [
    "#### Operaciones con listas"
   ]
  },
  {
   "cell_type": "markdown",
   "id": "fdd80c1a-c3d2-41e6-a1b5-1f60fc0676a3",
   "metadata": {},
   "source": [
    "* Creación de listas."
   ]
  },
  {
   "cell_type": "code",
   "execution_count": 67,
   "id": "dafeeb08-c86e-426f-ad7a-5c50f6483a8d",
   "metadata": {},
   "outputs": [
    {
     "name": "stdout",
     "output_type": "stream",
     "text": [
      "['a', 'b', 'c', 'd']\n",
      "['Hola', 'mundo']\n",
      "[0, 1, 2, 3, 4]\n",
      "<class 'list'>\n"
     ]
    }
   ],
   "source": [
    "letras = ['a', 'b', 'c', 'd']\n",
    "# LA función split divide cadena de textos en sublistas\n",
    "palabras = 'Hola mundo'.split()\n",
    "numeros = list(range(5))\n",
    "\n",
    "print(letras)\n",
    "print(palabras)\n",
    "print(numeros)\n",
    "print(type(numeros))"
   ]
  },
  {
   "cell_type": "code",
   "execution_count": 68,
   "id": "f9ad94ae-9437-4f0e-97b6-25ed73c33dd0",
   "metadata": {},
   "outputs": [
    {
     "name": "stdout",
     "output_type": "stream",
     "text": [
      "[1, 3.4, 'a', None, False]\n",
      "5\n"
     ]
    }
   ],
   "source": [
    "# Pueden contener elementos arbitrarios / heterogeneos\n",
    "mezcla = [1, 3.4, 'a', None, False]\n",
    "print(mezcla)\n",
    "print(len(mezcla))"
   ]
  },
  {
   "cell_type": "code",
   "execution_count": 69,
   "id": "a0c9ea99-428b-49a8-b4cd-5a2790cfe6c3",
   "metadata": {},
   "outputs": [
    {
     "name": "stdout",
     "output_type": "stream",
     "text": [
      "[1, 2, <built-in function len>]\n"
     ]
    }
   ],
   "source": [
    "# # Pueden incluso contener objetos más \"complejos\"\n",
    "lista_con_funcion = [1, 2, len]\n",
    "print(lista_con_funcion)"
   ]
  },
  {
   "cell_type": "code",
   "execution_count": 70,
   "id": "386029d8-f206-4069-8fb5-8d685c69537a",
   "metadata": {},
   "outputs": [
    {
     "name": "stdout",
     "output_type": "stream",
     "text": [
      "[1, 2, 3, 3, 3, 4]\n"
     ]
    }
   ],
   "source": [
    "# Pueden contener duplicados\n",
    "lista_con_duplicados = [1, 2, 3, 3, 3, 4]\n",
    "print(lista_con_duplicados)"
   ]
  },
  {
   "cell_type": "markdown",
   "id": "f49210d6-3608-49bb-ab9b-5ddfe18bdb08",
   "metadata": {},
   "source": [
    "* Acceso a un elemento de una lista"
   ]
  },
  {
   "cell_type": "code",
   "execution_count": 72,
   "id": "316bca8a-27b3-4d64-b0ec-678140148ffe",
   "metadata": {},
   "outputs": [
    {
     "name": "stdout",
     "output_type": "stream",
     "text": [
      "c\n",
      "d\n"
     ]
    }
   ],
   "source": [
    "print(letras[2])   # Tercer elemento de la lista letras\n",
    "print(letras[-1])  # ultimo elemento de la lista letras"
   ]
  },
  {
   "cell_type": "markdown",
   "id": "834c4e6c-eb18-49e6-b5ee-2f62b607538d",
   "metadata": {},
   "source": [
    "* **Slicing**: obtención de un fragmento de una lista, devuelve una copia de una parte de la lista\n",
    "\n",
    "    * Sintaxis:  *lista [ inicio : fin : paso ]*"
   ]
  },
  {
   "cell_type": "code",
   "execution_count": 75,
   "id": "13b57181-fa0f-4605-ace7-dd250c1e6572",
   "metadata": {},
   "outputs": [
    {
     "name": "stdout",
     "output_type": "stream",
     "text": [
      "['b', 'c']\n",
      "['a']\n",
      "['a', 'b', 'c']\n",
      "['c', 'd']\n",
      "['a', 'b', 'c', 'd']\n",
      "['a', 'c']\n"
     ]
    }
   ],
   "source": [
    "letras = ['a', 'b', 'c', 'd']\n",
    "\n",
    "print(letras[1:3])    # Imprime los elementos desde el índice 1 (inclusive) hasta el índice 3 (exclusive). En este caso, imprime ['b', 'c'].\n",
    "print(letras[:1])     # Imprime los elementos desde el inicio de la lista hasta el índice 1 (exclusive). Equivalente a letras[0:1]. Imprime ['a'].\n",
    "#Toma todos los elementos desde el inicio de la lista hasta el penúltimo (sin incluir el último)\n",
    "print(letras[:-1])    # Imprime los elementos desde el inicio de la lista hasta el índice -1 (exclusive). El índice -1 se refiere al último elemento. Por lo tanto, esto imprime todos los elementos excepto el último: ['a', 'b', 'c'].\n",
    "print(letras[2:])     # Imprime los elementos desde el índice 2 (inclusive) hasta el final de la lista. Imprime ['c', 'd'].\n",
    "print(letras[:])      # Imprime todos los elementos de la lista. Es equivalente a crear una copia superficial de la lista. Imprime ['a', 'b', 'c', 'd'].\n",
    "print(letras[::2])    # Imprime los elementos de la lista con un paso de 2. Comienza desde el principio, toma el primer elemento, salta uno, toma el siguiente, y así sucesivamente. Imprime ['a', 'c']."
   ]
  },
  {
   "cell_type": "code",
   "execution_count": 77,
   "id": "1dcfb52a-bd33-44c8-8cc6-6923a8efdbd6",
   "metadata": {},
   "outputs": [
    {
     "name": "stdout",
     "output_type": "stream",
     "text": [
      "['a', 'b', 'c', 'd']\n",
      "2339897029056\n",
      "['a', 'b', 'c', 'd']\n",
      "2339897028928\n",
      "['a', 'b', 'c', 'd']\n",
      "2339897026176\n"
     ]
    }
   ],
   "source": [
    "letras = ['a', 'b', 'c', 'd']\n",
    "\n",
    "print(letras)\n",
    "print(id(letras))\n",
    "\n",
    "a = letras[:]     # Crea copia superficial de la lista letras. Tienen un contenido idéntico a la lista original, pero se almacenan en diferentes ubicaciones de memoria.\n",
    "print(a)\n",
    "print(id(a))\n",
    "\n",
    "print(letras.copy())   # Crea copia superficial de la lista letras. Tienen un contenido idéntico a la lista original, pero se almacenan en diferentes ubicaciones de memoria.\n",
    "print(id(letras.copy()))"
   ]
  },
  {
   "cell_type": "markdown",
   "id": "b4baab0a-1b95-4c6a-9447-5eb41bcef833",
   "metadata": {},
   "source": [
    "* Añadir un elemento al final de la lista"
   ]
  },
  {
   "cell_type": "code",
   "execution_count": 78,
   "id": "7e7c5ce8-5f8d-4b86-a940-0481db950294",
   "metadata": {},
   "outputs": [
    {
     "name": "stdout",
     "output_type": "stream",
     "text": [
      "['a', 'b', 'c', 'd', 'e']\n",
      "2339897029056\n"
     ]
    }
   ],
   "source": [
    "letras.append('e')\n",
    "print(letras)\n",
    "print(id(letras))"
   ]
  },
  {
   "cell_type": "code",
   "execution_count": 79,
   "id": "ccb5934f-0bd7-432e-b811-7f61fe441b29",
   "metadata": {},
   "outputs": [
    {
     "name": "stdout",
     "output_type": "stream",
     "text": [
      "['a', 'b', 'c', 'd', 'e', 'e']\n",
      "2339897029056\n"
     ]
    }
   ],
   "source": [
    "letras += 'e'\n",
    "print(letras)\n",
    "print(id(letras))"
   ]
  },
  {
   "cell_type": "markdown",
   "id": "ae9386d4-4829-4831-a0a6-63665d0bd0b2",
   "metadata": {},
   "source": [
    "* Insertar en posición."
   ]
  },
  {
   "cell_type": "code",
   "execution_count": 80,
   "id": "b9228a4f-7904-4c9e-807e-b3d8b54e55a5",
   "metadata": {},
   "outputs": [
    {
     "name": "stdout",
     "output_type": "stream",
     "text": [
      "['a', 'g', 'b', 'c', 'd', 'e', 'e']\n",
      "2339897029056\n"
     ]
    }
   ],
   "source": [
    "letras.insert(1,'g')\n",
    "print(letras)\n",
    "print(id(letras))"
   ]
  },
  {
   "cell_type": "markdown",
   "id": "8310a86f-efbb-42af-9711-a2c8c10c885a",
   "metadata": {},
   "source": [
    "* Modificación de la lista (individual)."
   ]
  },
  {
   "cell_type": "code",
   "execution_count": 81,
   "id": "503fb3fa-4020-46a0-a88a-baeb4bd6e5e0",
   "metadata": {},
   "outputs": [
    {
     "name": "stdout",
     "output_type": "stream",
     "text": [
      "['a', 'g', 'b', 'c', 'd', 'f', 'e']\n",
      "2339897029056\n"
     ]
    }
   ],
   "source": [
    "letras[5] = 'f'\n",
    "print(letras)\n",
    "print(id(letras))"
   ]
  },
  {
   "cell_type": "code",
   "execution_count": 82,
   "id": "a1d1df06-5c38-4c8d-834f-f61a62433fbe",
   "metadata": {},
   "outputs": [
    {
     "ename": "IndexError",
     "evalue": "list assignment index out of range",
     "output_type": "error",
     "traceback": [
      "\u001b[31m---------------------------------------------------------------------------\u001b[39m",
      "\u001b[31mIndexError\u001b[39m                                Traceback (most recent call last)",
      "\u001b[36mCell\u001b[39m\u001b[36m \u001b[39m\u001b[32mIn[82]\u001b[39m\u001b[32m, line 2\u001b[39m\n\u001b[32m      1\u001b[39m \u001b[38;5;66;03m# index tiene que estar en rango\u001b[39;00m\n\u001b[32m----> \u001b[39m\u001b[32m2\u001b[39m letras[\u001b[32m8\u001b[39m] = \u001b[33m'\u001b[39m\u001b[33mr\u001b[39m\u001b[33m'\u001b[39m\n",
      "\u001b[31mIndexError\u001b[39m: list assignment index out of range"
     ]
    }
   ],
   "source": [
    "# index tiene que estar en rango\n",
    "letras[8] = 'r'"
   ]
  },
  {
   "cell_type": "markdown",
   "id": "000c3c71-c0a9-4917-be58-a6506cebdcd6",
   "metadata": {},
   "source": [
    "* Modificación múltiple usando slicing."
   ]
  },
  {
   "cell_type": "code",
   "execution_count": 83,
   "id": "e66949b1-8f00-4293-87b9-06ebbbe77122",
   "metadata": {},
   "outputs": [
    {
     "name": "stdout",
     "output_type": "stream",
     "text": [
      "2339896803776\n"
     ]
    }
   ],
   "source": [
    "letras = ['a', 'b', 'c', 'f', 'g', 'h', 'i', 'j', 'k']\n",
    "print(id(letras))"
   ]
  },
  {
   "cell_type": "code",
   "execution_count": 84,
   "id": "d234f79b-6fab-427e-bb64-e3f1800105e1",
   "metadata": {},
   "outputs": [
    {
     "name": "stdout",
     "output_type": "stream",
     "text": [
      "['z', 'b', 'z', 'f', 'z', 'h', 'i', 'j', 'k']\n",
      "2339896803776\n"
     ]
    }
   ],
   "source": [
    "letras[0:6:2] = ['z', 'z', 'z']\n",
    "print(letras)\n",
    "print(id(letras))"
   ]
  },
  {
   "cell_type": "code",
   "execution_count": 85,
   "id": "eb12cf97-bd79-4fb3-8345-9bb072d17e68",
   "metadata": {},
   "outputs": [
    {
     "name": "stdout",
     "output_type": "stream",
     "text": [
      "[1, [10, 20, 30], 3]\n",
      "30\n",
      "[1, [10, 20, [100, 200]], 3]\n",
      "200\n"
     ]
    }
   ],
   "source": [
    "# Ojo con la diferencia entre modificación individual y múltiple. Asignación individual de lista crea anidamiento.\n",
    "numeros = [1, 2, 3]\n",
    "numeros[1] = [10, 20, 30]\n",
    "\n",
    "print(numeros)\n",
    "print(numeros[1][2])\n",
    "\n",
    "numeros[1][2] = [100, 200]\n",
    "print(numeros)\n",
    "\n",
    "print(numeros[1][2][1])"
   ]
  },
  {
   "cell_type": "markdown",
   "id": "576b6e65-c727-443b-8bcc-c663d0361ce9",
   "metadata": {},
   "source": [
    "* Eliminar un elemento."
   ]
  },
  {
   "cell_type": "code",
   "execution_count": 86,
   "id": "b85ad13c-2489-4922-a7c7-03d6d9ff734d",
   "metadata": {},
   "outputs": [
    {
     "name": "stdout",
     "output_type": "stream",
     "text": [
      "['b', 'z', 'f', 'z', 'h', 'i', 'j', 'k']\n"
     ]
    }
   ],
   "source": [
    "# letras.remove('f')\n",
    "if 'z' in letras:\n",
    "    letras.remove('z')\n",
    "# letras.remove('z')\n",
    "print(letras)"
   ]
  },
  {
   "cell_type": "code",
   "execution_count": 87,
   "id": "91b3386b-3551-407b-ad71-6bf2c76a822d",
   "metadata": {},
   "outputs": [
    {
     "name": "stdout",
     "output_type": "stream",
     "text": [
      "k\n",
      "['b', 'z', 'f', 'z', 'h', 'i', 'j']\n"
     ]
    }
   ],
   "source": [
    "# elimina el elemento en posición -1 y lo devuelve\n",
    "elemento = letras.pop()\n",
    "print(elemento)\n",
    "print(letras)"
   ]
  },
  {
   "cell_type": "code",
   "execution_count": 88,
   "id": "42834cb6-8c36-463b-bb46-f26cf9677b03",
   "metadata": {},
   "outputs": [
    {
     "name": "stdout",
     "output_type": "stream",
     "text": [
      "[1, 2, [10, 20, 30]]\n",
      "[1, 2, [10, 20]]\n",
      "30\n"
     ]
    }
   ],
   "source": [
    "numeros = [1, 2, 3]\n",
    "numeros[2] = [10, 20, 30]\n",
    "print(numeros)\n",
    "\n",
    "n = numeros[2].pop()\n",
    "print(numeros)\n",
    "print(n)"
   ]
  },
  {
   "cell_type": "code",
   "execution_count": 89,
   "id": "1e3f309f-2cec-4620-b5e8-444261826a6b",
   "metadata": {},
   "outputs": [
    {
     "ename": "IndexError",
     "evalue": "pop from empty list",
     "output_type": "error",
     "traceback": [
      "\u001b[31m---------------------------------------------------------------------------\u001b[39m",
      "\u001b[31mIndexError\u001b[39m                                Traceback (most recent call last)",
      "\u001b[36mCell\u001b[39m\u001b[36m \u001b[39m\u001b[32mIn[89]\u001b[39m\u001b[32m, line 2\u001b[39m\n\u001b[32m      1\u001b[39m lista = []\n\u001b[32m----> \u001b[39m\u001b[32m2\u001b[39m a = lista.pop()\n",
      "\u001b[31mIndexError\u001b[39m: pop from empty list"
     ]
    }
   ],
   "source": [
    "lista = []\n",
    "a = lista.pop()"
   ]
  },
  {
   "cell_type": "markdown",
   "id": "bc47d292-3a93-47b8-875c-56bd0256574f",
   "metadata": {},
   "source": [
    "* Encontrar índice de un elemento."
   ]
  },
  {
   "cell_type": "code",
   "execution_count": 91,
   "id": "9461da2e-c9b0-4600-9c45-fc3d99e057fa",
   "metadata": {},
   "outputs": [],
   "source": [
    "letras = ['a', 'b', 'c', 'c']\n",
    "\n",
    "if 'd' in letras:\n",
    "    print(letras.index('d'))"
   ]
  },
  {
   "cell_type": "markdown",
   "id": "8912d4ab-cc69-4134-bc7c-02a31f3729a6",
   "metadata": {},
   "source": [
    "* Concatenar listas."
   ]
  },
  {
   "cell_type": "code",
   "execution_count": 92,
   "id": "a116cd11-ba9a-4716-8168-4063f78b0a76",
   "metadata": {},
   "outputs": [
    {
     "name": "stdout",
     "output_type": "stream",
     "text": [
      "2339881920640\n",
      "2339881777216\n",
      "2339896421504\n",
      "['queso', 'leche', 'naranja', 'manzana']\n"
     ]
    }
   ],
   "source": [
    "lacteos = ['queso', 'leche']\n",
    "frutas = ['naranja', 'manzana']\n",
    "print(id(lacteos))\n",
    "print(id(frutas))\n",
    "\n",
    "compra = lacteos + frutas\n",
    "print(id(compra))\n",
    "print(compra)"
   ]
  },
  {
   "cell_type": "code",
   "execution_count": 93,
   "id": "bf6dc066-2552-407c-95eb-9235c2fc0c4d",
   "metadata": {},
   "outputs": [
    {
     "name": "stdout",
     "output_type": "stream",
     "text": [
      "2339881774336\n",
      "['naranja', 'manzana', 'pera', 'uvas']\n",
      "2339881774336\n"
     ]
    }
   ],
   "source": [
    "# Concatenación sin crear una nueva lista\n",
    "frutas = ['naranja', 'manzana']\n",
    "print(id(frutas))\n",
    "frutas.extend(['pera', 'uvas'])\n",
    "print(frutas)\n",
    "print(id(frutas))"
   ]
  },
  {
   "cell_type": "code",
   "execution_count": 94,
   "id": "811bd7ff-f496-4cc4-a39c-cfc23ddfa222",
   "metadata": {},
   "outputs": [
    {
     "name": "stdout",
     "output_type": "stream",
     "text": [
      "2339897456896\n",
      "['naranja', 'manzana', ['pera', 'uvas']]\n",
      "2339897456896\n"
     ]
    }
   ],
   "source": [
    "# Anidar sin crear una nueva lista\n",
    "frutas = ['naranja', 'manzana']\n",
    "print(id(frutas))\n",
    "frutas.append(['pera', 'uvas'])\n",
    "print(frutas)\n",
    "print(id(frutas))"
   ]
  },
  {
   "cell_type": "markdown",
   "id": "14d09154-f3f0-425a-aa32-19e7428c79ca",
   "metadata": {},
   "source": [
    "* Replicar una lista."
   ]
  },
  {
   "cell_type": "code",
   "execution_count": 95,
   "id": "163756ad-a08a-488e-bb75-2e4f5dee6324",
   "metadata": {},
   "outputs": [
    {
     "name": "stdout",
     "output_type": "stream",
     "text": [
      "['queso', 'leche', 'queso', 'leche', 'queso', 'leche']\n",
      "2339896621312\n",
      "['queso', 'leche', 'queso', 'leche', 'queso', 'leche']\n",
      "2339887540416\n"
     ]
    }
   ],
   "source": [
    "lacteos = ['queso', 'leche']\n",
    "print(lacteos * 3)\n",
    "print(id(lacteos))\n",
    "\n",
    "a = 3 * lacteos\n",
    "print(a)\n",
    "print(id(a))"
   ]
  },
  {
   "cell_type": "markdown",
   "id": "fb82fdeb-6b2d-4d97-8f19-d80faf488226",
   "metadata": {},
   "source": [
    "* Copiar una lista"
   ]
  },
  {
   "cell_type": "code",
   "execution_count": 96,
   "id": "88b4e583-7fd6-4f9e-be98-59bf83bb52a6",
   "metadata": {},
   "outputs": [
    {
     "name": "stdout",
     "output_type": "stream",
     "text": [
      "['naranja', 'manzana', ['pera', 'uvas']]\n",
      "id frutas = 2339897456896\n",
      "id frutas2 = 2339881777216\n"
     ]
    }
   ],
   "source": [
    "frutas2 = frutas.copy()\n",
    "frutas2 = frutas[:]\n",
    "print(frutas2)\n",
    "print('id frutas = ' + str(id(frutas)))\n",
    "print('id frutas2 = ' + str(id(frutas2)))"
   ]
  },
  {
   "cell_type": "markdown",
   "id": "5a4361a5-3f0d-4c5e-bc95-13f0124638dd",
   "metadata": {},
   "source": [
    "* Ordenar una lista."
   ]
  },
  {
   "cell_type": "code",
   "execution_count": 97,
   "id": "64030ef9-6afc-450f-844b-44ffb89446ea",
   "metadata": {},
   "outputs": [
    {
     "name": "stdout",
     "output_type": "stream",
     "text": [
      "[1, 3, 4, 8]\n",
      "[8, 4, 3, 1]\n"
     ]
    }
   ],
   "source": [
    "lista = [4,3,8,1]\n",
    "lista.sort()\n",
    "print(lista)\n",
    "\n",
    "lista.sort(reverse=True)\n",
    "print(lista)"
   ]
  },
  {
   "cell_type": "code",
   "execution_count": 98,
   "id": "58d1c03f-3bcd-4ec8-aeea-fe27cfc04751",
   "metadata": {},
   "outputs": [
    {
     "ename": "TypeError",
     "evalue": "'<' not supported between instances of 'str' and 'int'",
     "output_type": "error",
     "traceback": [
      "\u001b[31m---------------------------------------------------------------------------\u001b[39m",
      "\u001b[31mTypeError\u001b[39m                                 Traceback (most recent call last)",
      "\u001b[36mCell\u001b[39m\u001b[36m \u001b[39m\u001b[32mIn[98]\u001b[39m\u001b[32m, line 3\u001b[39m\n\u001b[32m      1\u001b[39m \u001b[38;5;66;03m# Los elementos deben ser comparables para poderse ordenar\u001b[39;00m\n\u001b[32m      2\u001b[39m lista = [\u001b[32m1\u001b[39m, \u001b[33m'\u001b[39m\u001b[33ma\u001b[39m\u001b[33m'\u001b[39m]\n\u001b[32m----> \u001b[39m\u001b[32m3\u001b[39m lista.sort()\n",
      "\u001b[31mTypeError\u001b[39m: '<' not supported between instances of 'str' and 'int'"
     ]
    }
   ],
   "source": [
    "# Los elementos deben ser comparables para poderse ordenar\n",
    "lista = [1, 'a']\n",
    "lista.sort()"
   ]
  },
  {
   "cell_type": "code",
   "execution_count": 99,
   "id": "629ba500-0200-4761-b15a-ce18a352b813",
   "metadata": {},
   "outputs": [
    {
     "name": "stdout",
     "output_type": "stream",
     "text": [
      "['Huevos', 'Leche', 'Pan']\n",
      "['Huevos', 'Pan', 'Leche']\n"
     ]
    }
   ],
   "source": [
    "compra = ['Huevos','Pan','Leche']\n",
    "print(sorted(compra))\n",
    "print(compra)"
   ]
  },
  {
   "cell_type": "markdown",
   "id": "bf30ae83-1d0a-4bbf-a30d-8f93ed6588f5",
   "metadata": {},
   "source": [
    "* Pertenencia."
   ]
  },
  {
   "cell_type": "code",
   "execution_count": 100,
   "id": "831cafe3-cafc-4895-8c83-de3270b3c6bf",
   "metadata": {},
   "outputs": [
    {
     "name": "stdout",
     "output_type": "stream",
     "text": [
      "True\n",
      "False\n"
     ]
    }
   ],
   "source": [
    "lista = [1, 2, 3, 4]\n",
    "print(1 in lista)\n",
    "print(5 in lista)"
   ]
  },
  {
   "cell_type": "markdown",
   "id": "405c6e3d-86a2-4212-a3af-3b58cea2b17a",
   "metadata": {},
   "source": [
    "* Anidamiento."
   ]
  },
  {
   "cell_type": "code",
   "execution_count": 101,
   "id": "c9891fa3-831a-4354-8f74-ccd9b7ed7d7f",
   "metadata": {},
   "outputs": [
    {
     "name": "stdout",
     "output_type": "stream",
     "text": [
      "a\n",
      "x\n",
      "i\n"
     ]
    }
   ],
   "source": [
    "letras = ['a', 'b', 'c', ['x', 'y', ['i', 'j', 'k']]]\n",
    "print(letras[0])\n",
    "print(letras[3][0])\n",
    "print(letras[3][2][0])"
   ]
  },
  {
   "cell_type": "code",
   "execution_count": null,
   "id": "1401148e-963b-4d63-ac9a-fc87bd332822",
   "metadata": {},
   "outputs": [],
   "source": [
    "# print(letras[3])"
   ]
  },
  {
   "cell_type": "markdown",
   "id": "8a5611f8-7b55-4f60-965e-dd1a55ed5fab",
   "metadata": {},
   "source": [
    "<img src=\"img/data_types/nestedlist.png\" width=\"900\">"
   ]
  },
  {
   "cell_type": "code",
   "execution_count": null,
   "id": "920e0af5-5afb-4802-b751-06f4ef78877e",
   "metadata": {},
   "outputs": [],
   "source": [
    "# a =[1000,2,3]\n",
    "# b = a[:] #a.copy() #[:]\n",
    "\n",
    "# print(id(a))\n",
    "# print(id(b))\n",
    "\n",
    "# print(id(a[0]))\n",
    "# print(id(b[0]))"
   ]
  },
  {
   "cell_type": "markdown",
   "id": "7212713d-e13f-4185-999e-d28c12f8eaa6",
   "metadata": {},
   "source": [
    "#### Alias/Referencias en las listas\n",
    "- Son mutables y las asignaciones a un objeto alteran el primero\n",
    "- Pasar listas a funciones puede suponer un riesgo\n",
    "- Clonar o copiar listas\n"
   ]
  },
  {
   "cell_type": "code",
   "execution_count": null,
   "id": "81e63593-1c9a-4936-b7bd-513d451bac12",
   "metadata": {},
   "outputs": [],
   "source": [
    "# lista = [2, 4, 16, 32]\n",
    "# ref = lista\n",
    "\n",
    "# print(id(lista))\n",
    "# print(id(ref))\n",
    "\n",
    "# ref[2] = 64\n",
    "\n",
    "# print(ref)\n",
    "# print(lista)"
   ]
  },
  {
   "cell_type": "code",
   "execution_count": null,
   "id": "3c16b104-823d-4c80-8048-474c100551e7",
   "metadata": {},
   "outputs": [],
   "source": [
    "# lista = [2000, 4, 16, 32]\n",
    "# copia = lista[:]\n",
    "# # copia = lista.copy()\n",
    "\n",
    "# copia[2] = 64\n",
    "\n",
    "# print(lista)\n",
    "# print(copia)\n",
    "\n",
    "# print(id(lista))\n",
    "# print(id(copia))\n",
    "\n",
    "# print(id(lista[2]))\n",
    "# print(id(copia[2]))"
   ]
  },
  {
   "cell_type": "code",
   "execution_count": null,
   "id": "2fe2ab71-9ec3-48db-ad23-31f55bc51961",
   "metadata": {},
   "outputs": [],
   "source": [
    "# #listas anidadas se copian por referencia\n",
    "# lista = [2, 4, 16, 32, [34, 10, [5,5]]]\n",
    "# copia = lista.copy()\n",
    "\n",
    "# copia[3] = 20\n",
    "# copia[4][0] = 28\n",
    "\n",
    "# print(copia)\n",
    "# print(lista)"
   ]
  },
  {
   "cell_type": "code",
   "execution_count": null,
   "id": "ebc63fa9-9a63-4906-9ac2-a92729c9cd26",
   "metadata": {},
   "outputs": [],
   "source": [
    "# lista = [0, 1, [10, 20]]\n",
    "# print(id(lista))\n",
    "\n",
    "# lista2 = [10, 20]\n",
    "# lista = [0, 1, lista2]\n",
    "\n",
    "# copia = lista[:] #.copy()\n",
    "# print(copia)\n",
    "# print(id(copia))\n",
    "\n",
    "# print(id(lista[2]))\n",
    "# print(id(copia[2]))\n",
    "\n",
    "# copia[2][0] = 40\n",
    "# print(copia)\n",
    "# print(lista)"
   ]
  },
  {
   "cell_type": "code",
   "execution_count": null,
   "id": "f1282893-e062-478b-b210-799ceb52a64e",
   "metadata": {},
   "outputs": [],
   "source": [
    "# # evitar que listas anidadas se copien por referencia\n",
    "# import copy\n",
    "\n",
    "# lista = [2, 4, 16, 32, [34, 10, [5,5]]]\n",
    "\n",
    "# copia = copy.deepcopy(lista)\n",
    "# copia[0] = 454\n",
    "# copia[4][2][0] = 64\n",
    "# print(lista)\n",
    "# print(copia)\n",
    "\n",
    "# print(f\"{id(lista)} - {id(copia)}\")\n",
    "# print(f\"{id(lista[4])} - {id(copia[4])}\")"
   ]
  },
  {
   "cell_type": "markdown",
   "id": "1da51737-801c-48ad-9a63-33c847d4bd4c",
   "metadata": {},
   "source": [
    "## Diccionarios\n",
    "\n",
    "* Colección de parejas clave-valor.\n",
    "* Son mutables.\n",
    "* Claves:\n",
    "   * Cualquier objeto inmutable.\n",
    "   * Sólo pueden aparecer una vez en el diccionario.\n",
    "* Valores:\n",
    "   * Sin restricciones. Cualquier objeto (enteros, strings, listas, etc.) puede hacer de valor.\n",
    "* Desde la versión 3.7 están ordenados.\n",
    "* Se pueden ver como listas indexadas por cualquier objeto inmutable, no necesariamente por números enteros.\n",
    "* A diferencia de las listas, no son *secuencias*. Son *mappings*."
   ]
  },
  {
   "cell_type": "markdown",
   "id": "b9309915-f7ff-436e-9f9f-ca0b819fdef4",
   "metadata": {},
   "source": [
    "#### Operaciones con diccionarios"
   ]
  },
  {
   "cell_type": "markdown",
   "id": "56770fb2-0ff1-42a3-b4de-ded65a4d8e73",
   "metadata": {},
   "source": [
    "* Creación de diccionarios."
   ]
  },
  {
   "cell_type": "code",
   "execution_count": null,
   "id": "6b672767-6fdf-4449-9edc-bf0112042ab0",
   "metadata": {},
   "outputs": [],
   "source": [
    "# # Creación simple, usando una expresión literal.\n",
    "\n",
    "# persona = {'DNI' : '11111111D', 'Nombre' : 'Carlos', 'Edad' : 34}\n",
    "# print(persona)"
   ]
  },
  {
   "cell_type": "code",
   "execution_count": null,
   "id": "6144d68c-7ed7-4072-babc-97181487ea99",
   "metadata": {},
   "outputs": [],
   "source": [
    "# Creación uniendo dos colecciones.\n",
    "\n",
    "# nombres = ['Pablo', 'Manolo', 'Pepe', 'Juan']\n",
    "# edades = [52, 14, 65]\n",
    "\n",
    "# datos = dict(zip(nombres,edades))\n",
    "# print(datos)"
   ]
  },
  {
   "cell_type": "code",
   "execution_count": null,
   "id": "d42175bc-b71c-4648-840f-b524e399fd21",
   "metadata": {
    "tags": []
   },
   "outputs": [],
   "source": [
    "# Creación pasando claves y valores a la función 'dict'\n",
    "# persona2 = dict(nombre='Rosa', apellido='Garcia')\n",
    "# print(persona2)"
   ]
  },
  {
   "cell_type": "code",
   "execution_count": null,
   "id": "550a1db8-1081-46e2-ab4c-5cb4503d7b53",
   "metadata": {},
   "outputs": [],
   "source": [
    "# Creación usando una lista de tuplas de dos elementos.\n",
    "\n",
    "# persona2 = dict([('nombre', 'Rosa'), ('apellido','Garcia')])\n",
    "# print(persona2)"
   ]
  },
  {
   "cell_type": "code",
   "execution_count": null,
   "id": "cfe2ef5a-bd04-4646-a501-3beb69ba34f0",
   "metadata": {},
   "outputs": [],
   "source": [
    "# Creación incremental por medio de asignación (como las claves no existen, se crean nuevos items)\n",
    "\n",
    "# persona = {}\n",
    "# # print(persona['DNI'])\n",
    "# persona['DNI'] = '11111111D'\n",
    "# persona['Nombre'] = 'Carlos'\n",
    "# persona['Edad'] = 34\n",
    "# persona['DNI'] = '222222222'\n",
    "\n",
    "# print(persona)"
   ]
  },
  {
   "cell_type": "markdown",
   "id": "f9460832-22bb-4e50-96db-e04902ee817f",
   "metadata": {},
   "source": [
    "* Acceso a un valor a través de la clave."
   ]
  },
  {
   "cell_type": "code",
   "execution_count": null,
   "id": "84cedba4-9e78-4fb4-913d-beb2dd70aa42",
   "metadata": {},
   "outputs": [],
   "source": [
    "# persona = {'DNI' : '11111111D', 'Nombre' : 'Carlos', 'Edad' : 34}\n",
    "# print(persona['Nombre'])"
   ]
  },
  {
   "cell_type": "code",
   "execution_count": null,
   "id": "3d454228-d3ba-4556-914d-a0ae505abfe8",
   "metadata": {
    "tags": []
   },
   "outputs": [],
   "source": [
    "# Acceso a claves inexistentes o por índice produce error\n",
    "\n",
    "# # persona[1]\n",
    "# print(persona['Nombre'])\n",
    "\n",
    "# if 'Trabajo' in persona:\n",
    "#     print(persona['Trabajo'])\n",
    "# else:\n",
    "#     print(\"En el paro\")\n",
    "\n",
    "# persona.get('Trabajo', \"En el paro\")"
   ]
  },
  {
   "cell_type": "markdown",
   "id": "010f34c6-e955-49e6-a965-9d301ce53187",
   "metadata": {},
   "source": [
    "* Modificación de un valor a través de la clave."
   ]
  },
  {
   "cell_type": "code",
   "execution_count": null,
   "id": "164adec6-ea69-4bdd-9f63-e31255c17a81",
   "metadata": {},
   "outputs": [],
   "source": [
    "# persona = {'DNI' : '11111111D', 'Nombre' : 'Carlos', 'Edad' : 34}\n",
    "\n",
    "# persona['Nombre'] = 'Fernando'\n",
    "# persona['Edad'] += 1\n",
    "\n",
    "# print(persona)"
   ]
  },
  {
   "cell_type": "markdown",
   "id": "25746151-0310-413b-bfd1-ff1031ddff44",
   "metadata": {},
   "source": [
    "* Añadir un valor a través de la clave."
   ]
  },
  {
   "cell_type": "code",
   "execution_count": null,
   "id": "49cef456-675a-4ff2-8194-7b3e96149512",
   "metadata": {},
   "outputs": [],
   "source": [
    "# persona = {'DNI' : '11111111D', 'Nombre' : 'Carlos', 'Edad' : 34}\n",
    "# persona['Ciudad'] = 'Valencia'\n",
    "\n",
    "# print(persona)"
   ]
  },
  {
   "cell_type": "markdown",
   "id": "9d0bd701-89e6-43a6-a21b-f16fe4fb7741",
   "metadata": {},
   "source": [
    "* Eliminación de un valor a través de la clave."
   ]
  },
  {
   "cell_type": "code",
   "execution_count": null,
   "id": "1701f312-ef34-446d-b770-10e1edffc49b",
   "metadata": {},
   "outputs": [],
   "source": [
    "# del persona['Ciudad']\n",
    "# value = persona.pop('Edad')\n",
    "\n",
    "# print(persona)\n",
    "# print(value)"
   ]
  },
  {
   "cell_type": "markdown",
   "id": "3d7e5aee-919f-4452-bb05-f58a86b73ed0",
   "metadata": {},
   "source": [
    "* Comprobación de existencia de clave."
   ]
  },
  {
   "cell_type": "code",
   "execution_count": null,
   "id": "b7c47400-ff66-48b4-8659-b55c5a7946f9",
   "metadata": {},
   "outputs": [],
   "source": [
    "# print('Nombre' in persona)\n",
    "# print('Apellido' in persona)"
   ]
  },
  {
   "cell_type": "markdown",
   "id": "3653af0f-1d67-4cb3-8093-518d5b713ea3",
   "metadata": {},
   "source": [
    "* Recuperación del valor de una clave, indicando valor por defecto en caso de ausencia."
   ]
  },
  {
   "cell_type": "code",
   "execution_count": null,
   "id": "31940720-8e62-4d17-8bfa-4ec798da6334",
   "metadata": {},
   "outputs": [],
   "source": [
    "# persona = {'Nombre' : 'Carlos'}\n",
    "\n",
    "# value = persona.get('Nombre')\n",
    "# print(value)\n",
    "\n",
    "# # persona['Estatura']\n",
    "\n",
    "# value = persona.get('Estatura', 180)\n",
    "# print(value)"
   ]
  },
  {
   "cell_type": "markdown",
   "id": "d39576f5-340d-455c-8408-c3bbbcf15d11",
   "metadata": {},
   "source": [
    "* Anidamiento."
   ]
  },
  {
   "cell_type": "code",
   "execution_count": null,
   "id": "a0c69d08-249c-4740-bc32-508fc173a067",
   "metadata": {},
   "outputs": [],
   "source": [
    "# persona = {\n",
    "#     'Trabajos' : ['desarrollador', 'gestor'],\n",
    "#     'Direccion' : {'Calle' : 'Pintor Sorolla', 'Ciudad' : 'Valencia'}\n",
    "# }\n",
    "\n",
    "# print(persona['Direccion'])\n",
    "# print(persona['Direccion']['Ciudad'])"
   ]
  },
  {
   "cell_type": "markdown",
   "id": "aa076604-e4a7-4ea8-91f4-2e2c3995e01f",
   "metadata": {},
   "source": [
    "* Métodos *items*, *keys* y *values*."
   ]
  },
  {
   "cell_type": "code",
   "execution_count": null,
   "id": "a7639588-52a6-45d7-93e8-d4d40857a96c",
   "metadata": {},
   "outputs": [],
   "source": [
    "# persona = {'DNI' : '11111111D', 'Nombre' : 'Carlos', 'Edad' : 34}\n",
    "\n",
    "# print(list(persona.items()))\n",
    "# print(list(persona.keys()))\n",
    "# print(list(persona.values()))"
   ]
  },
  {
   "cell_type": "code",
   "execution_count": null,
   "id": "81fc2d3d-1fc1-4a19-9de4-c003f7a67796",
   "metadata": {
    "slideshow": {
     "slide_type": "fragment"
    }
   },
   "outputs": [],
   "source": [
    "# dict_simple = {'ID' : 'XCSDe1194', 'Nombre' : 'Carlos', 'Edad' : 34}\n",
    "\n",
    "# # iterar sobre las claves\n",
    "# print('Claves\\n')\n",
    "# for key in dict_simple.keys(): # o dict_simple\n",
    "#     print(key)\n",
    "    \n",
    "# print('\\nValores\\n')\n",
    "# # iterar sobre los valores\n",
    "# for value in dict_simple.values():\n",
    "#     print(value)"
   ]
  },
  {
   "cell_type": "code",
   "execution_count": null,
   "id": "009be1e4-d661-4783-aef2-9a27bfcdba05",
   "metadata": {
    "slideshow": {
     "slide_type": "fragment"
    }
   },
   "outputs": [],
   "source": [
    "# dict_simple = {'ID' : 'XCSDe1194', 'Nombre' : 'Carlos', 'Edad' : 34}\n",
    "# # iterar sobre ambos, directamente con items().\n",
    "# for key, value in dict_simple.items():\n",
    "#     print('Clave: ' + str(key) + ', valor: ' + str(value))\n",
    "    \n",
    "# for item in dict_simple.items():  # devuelve tuplas\n",
    "#     print('Item: ' + str(item))\n",
    "\n",
    "# # usar zip para iterar sobre Clave-Valor\n",
    "# for key, value in zip(dict_simple.keys(),dict_simple.values()):\n",
    "#     print('Clave: ' + str(key) + ', valor: ' + str(value))"
   ]
  },
  {
   "cell_type": "markdown",
   "id": "26948ee8-6457-4c79-88f9-f1326c86a698",
   "metadata": {},
   "source": [
    "## Sets (Conjuntos)\n",
    "\n",
    "Al igual que las listas:\n",
    "\n",
    "* Colección de elementos.\n",
    "* Tipos arbitrarios.\n",
    "* Mutables.\n",
    "* No tienen tamaño fijo. Pueden contener tantos elementos como quepan en memoria.\n",
    "\n",
    "A diferencia de las listas:\n",
    "\n",
    "* No puede tener duplicados.\n",
    "* Se definen por medio de llaves.\n",
    "* Los elementos no van ordenados por posición. No hay orden establecido.\n",
    "* Solo pueden contener objetos inmutables.\n",
    "* No soportan anidamiento."
   ]
  },
  {
   "cell_type": "markdown",
   "id": "9e6ee700-285f-40f7-be5c-e1d0cf06c376",
   "metadata": {},
   "source": [
    "#### Operaciones con conjuntos"
   ]
  },
  {
   "cell_type": "markdown",
   "id": "2c7648a0-616b-49aa-9992-c5cbc79b9177",
   "metadata": {},
   "source": [
    "* Creación de conjuntos."
   ]
  },
  {
   "cell_type": "code",
   "execution_count": null,
   "id": "1bcd41c7-7efd-4d9f-ad61-a045b001bdaf",
   "metadata": {},
   "outputs": [],
   "source": [
    "# set1 = {0, 1, 1, 2, 3, 4, 4}\n",
    "# print(set1)\n",
    "  \n",
    "# set2 = {'user1', 12, 2}\n",
    "# print(set2)\n",
    "\n",
    "# set3 = set(range(7))\n",
    "# print(set3)\n",
    "\n",
    "# set4 = set([0, 1, 2, 3, 4, 0, 1])\n",
    "# print(set4)"
   ]
  },
  {
   "cell_type": "code",
   "execution_count": null,
   "id": "0feba59b-6222-4013-a8ed-27073899d149",
   "metadata": {},
   "outputs": [],
   "source": [
    "# Observa la diferencia entre listas y conjuntos\n",
    "# s = 'aabbc'\n",
    "# print(list(s))\n",
    "# print(set(s))"
   ]
  },
  {
   "cell_type": "markdown",
   "id": "3554831f-dacc-4566-b3a0-c3de6af8b554",
   "metadata": {},
   "source": [
    "* Acceso por índice genera error."
   ]
  },
  {
   "cell_type": "code",
   "execution_count": null,
   "id": "824118a8-4de8-426e-94ea-754083f31d41",
   "metadata": {},
   "outputs": [],
   "source": [
    "# set1 = {0, 1, 2}\n",
    "# print(set1[0])"
   ]
  },
  {
   "cell_type": "markdown",
   "id": "724274bf-e250-4463-8f18-8ce70d6c374c",
   "metadata": {},
   "source": [
    "* Unión, intersección y diferencia."
   ]
  },
  {
   "cell_type": "code",
   "execution_count": null,
   "id": "b8c19cc9-7d32-4b40-98d2-717c8b682078",
   "metadata": {},
   "outputs": [],
   "source": [
    "# set1 = {0, 1, 1, 2, 3, 4, 5, 8, 13, 21}\n",
    "# set2 = set([0, 1, 2, 3, 4, 42])\n",
    "\n",
    "# # union\n",
    "# print(set1 | set2)\n",
    "\n",
    "# # intersección\n",
    "# print(set1 & set2)\n",
    "\n",
    "# # diferencia\n",
    "# print(set1 - set2)\n",
    "# print(set2 - set1)"
   ]
  },
  {
   "cell_type": "code",
   "execution_count": null,
   "id": "e5cb81f7-6ede-4065-b136-565ee0ca4f8e",
   "metadata": {},
   "outputs": [],
   "source": [
    "# a = [1,2]\n",
    "# b = [2,3]\n",
    "# print(set(a) & set(b))"
   ]
  },
  {
   "cell_type": "markdown",
   "id": "ccd62aaa-46fb-46ab-9c22-0dbdea36234d",
   "metadata": {},
   "source": [
    "<img src=\"img/data_types/setops.png\" width=\"500\">"
   ]
  },
  {
   "cell_type": "code",
   "execution_count": null,
   "id": "33896bac-7b88-4ba5-b756-44a2c1f56a1b",
   "metadata": {},
   "outputs": [],
   "source": [
    "# Además de los operadores, que operan únicamente con Sets, también se pueden usar métodos que pueden operar sobre cualquier objeto iterable.\n",
    "# conjunto = {0, 1, 2}\n",
    "# lista = [1, 3, 3]\n",
    "\n",
    "# print(conjunto.union(lista))\n",
    "# print(conjunto.intersection(lista))\n",
    "# print(conjunto.difference(lista))"
   ]
  },
  {
   "cell_type": "markdown",
   "id": "268659b8-8718-4f2b-b237-efc0503bb9a8",
   "metadata": {},
   "source": [
    "* comparación de conjuntos."
   ]
  },
  {
   "cell_type": "code",
   "execution_count": null,
   "id": "14a4af02-b58b-4561-8fa4-603e0cbdad0c",
   "metadata": {},
   "outputs": [],
   "source": [
    "# set1 = {0, 1, 1, 2, 3, 4, 5, 8, 13, 21}\n",
    "# set2 = set([0, 1, 2, 3, 4])\n",
    "\n",
    "# print(set2.issubset(set1))\n",
    "# print(set1.issuperset(set2))\n",
    "# print(set1.isdisjoint(set2))"
   ]
  },
  {
   "cell_type": "markdown",
   "id": "e5b153cb-c102-4eba-9c98-6532e554d796",
   "metadata": {},
   "source": [
    "* Pertenencia."
   ]
  },
  {
   "cell_type": "code",
   "execution_count": null,
   "id": "3b08956a-4fe0-4a64-8e8d-54e1dc24e353",
   "metadata": {},
   "outputs": [],
   "source": [
    "# words = {'calm', 'balm'}\n",
    "# print('calm' in words)"
   ]
  },
  {
   "cell_type": "markdown",
   "id": "0e976a6d-bf10-4344-b056-d1a668cca7d8",
   "metadata": {},
   "source": [
    "* Anidamiento."
   ]
  },
  {
   "cell_type": "code",
   "execution_count": null,
   "id": "c8aea6ca-c092-42e6-ac8e-7bb7ab8f2d8b",
   "metadata": {},
   "outputs": [],
   "source": [
    "# Los conjuntos no soportan anidamiento, pero como permite elementos inmutables, se pueden \"anidar\" tuplas.\n",
    "\n",
    "# nested_set = {1, (1, 1, 1), 2, 3, (1,1,1)}\n",
    "# print(nested_set)"
   ]
  },
  {
   "cell_type": "markdown",
   "id": "b3bba4e1-a63a-4f94-a0dc-77c7fa2eb73f",
   "metadata": {},
   "source": [
    "* Modificación de conjuntos."
   ]
  },
  {
   "cell_type": "code",
   "execution_count": null,
   "id": "9a93a5d1-8ce8-46ca-9545-961ac8795a43",
   "metadata": {},
   "outputs": [],
   "source": [
    "# A través de operador de asignación\n",
    "\n",
    "# set1 = {'a', 'b', 'c'}\n",
    "# set2 = {'a', 'd'}\n",
    "\n",
    "# # set1 |= set2 # set1 = set1 | set2\n",
    "# # set1 &= set2\n",
    "# set1 -= set2\n",
    "\n",
    "# print(set1)"
   ]
  },
  {
   "cell_type": "code",
   "execution_count": null,
   "id": "dd9ad18c-9363-4269-9128-ded302509679",
   "metadata": {},
   "outputs": [],
   "source": [
    "# A través de método 'update'.\n",
    "\n",
    "# set1 = {'a', 'b', 'c'}\n",
    "# set2 = {'a', 'd'}\n",
    "\n",
    "# # set1.update(set2)\n",
    "# # set1.intersection_update(set2)\n",
    "# set1.difference_update(set2)\n",
    "\n",
    "# print(set1)"
   ]
  },
  {
   "cell_type": "code",
   "execution_count": null,
   "id": "ec8b851e-da63-4283-b419-1c372bea44b2",
   "metadata": {},
   "outputs": [],
   "source": [
    "# A través de métodos 'add' y 'remove'.\n",
    "\n",
    "# set1 = {'a', 'b', 'c'}\n",
    "\n",
    "# set1.add('d')\n",
    "# set1.remove('a')\n",
    "\n",
    "# print(set1)"
   ]
  },
  {
   "cell_type": "markdown",
   "id": "c6ce555b-64eb-4c8c-8d53-ba606d52db00",
   "metadata": {},
   "source": [
    "## Tuplas\n",
    "\n",
    "Al igual que las listas:\n",
    "\n",
    "* Colección de elementos.\n",
    "* Tipos arbitrarios.\n",
    "* Puede contener duplicados.\n",
    "* No tienen tamaño fijo. Pueden contener tantos elementos como quepan en memoria.\n",
    "* Los elementos van ordenados por posición.\n",
    "* Acceso a través de la sintaxis: __[index]__\n",
    "* Índices van de *0* a *n-1*, donde *n* es el número de elementos de la tupla.\n",
    "* Son *secuencias* donde el orden de los elementos importa.\n",
    "* Soportan anidamiento.\n",
    "\n",
    "A diferencia de las listas:\n",
    "\n",
    "* Se definen por medio de paréntesis.\n",
    "* Inmutables."
   ]
  },
  {
   "cell_type": "markdown",
   "id": "3fd71e8c-e859-4b30-931f-c698c1713b15",
   "metadata": {},
   "source": [
    "#### ¿Por qué tuplas?\n",
    "\n",
    "* Representación de una colección fija de elementos (por ejemplo, una fecha).\n",
    "* Pueden usarse en contextos que requieren inmutabilidad (por ejemplo, como claves de un diccionario)."
   ]
  },
  {
   "cell_type": "markdown",
   "id": "9ccd13cc-d699-4aaf-8a01-eb9b5afcfc93",
   "metadata": {},
   "source": [
    "#### Operaciones con tuplas"
   ]
  },
  {
   "cell_type": "markdown",
   "id": "576912bc-f14c-4abf-baac-e7844d333e31",
   "metadata": {},
   "source": [
    "* Creación de tuplas."
   ]
  },
  {
   "cell_type": "code",
   "execution_count": null,
   "id": "5c121871-3a69-413b-b542-eb0f835e792e",
   "metadata": {},
   "outputs": [],
   "source": [
    "# tuple1 = ('Foo', 34, 5.0, 34)\n",
    "# print(tuple1)\n",
    "\n",
    "# tuple2 = 1, 2, 3\n",
    "# print(tuple2)\n",
    "\n",
    "# tuple3 = tuple(range(10))\n",
    "# print(tuple3)\n",
    "\n",
    "# tuple4 = tuple([0, 1, 2, 3, 4])\n",
    "# print(tuple4)"
   ]
  },
  {
   "cell_type": "code",
   "execution_count": null,
   "id": "4efc7c79-3405-4f18-97cb-1f0bbea2171d",
   "metadata": {},
   "outputs": [],
   "source": [
    "# Ojo con las tuplas de un elemento. Los paréntesis se intepretan como indicadores de precedencia de operadores.\n",
    "# singleton_number = (1)\n",
    "# type(singleton_number)"
   ]
  },
  {
   "cell_type": "code",
   "execution_count": null,
   "id": "f5b1bd32-c090-4f32-ac51-192227f49a37",
   "metadata": {},
   "outputs": [],
   "source": [
    "# Creación de tupla de un elemento.\n",
    "# singleton_tuple = (1,)\n",
    "# print(type(singleton_tuple))\n",
    "# print(singleton_tuple)"
   ]
  },
  {
   "cell_type": "markdown",
   "id": "62ef3603-2941-4922-b7ef-673bf0b06727",
   "metadata": {},
   "source": [
    "* Obtención del número de elementos."
   ]
  },
  {
   "cell_type": "code",
   "execution_count": null,
   "id": "1736170d-5060-4bbf-bacd-2810a1279601",
   "metadata": {},
   "outputs": [],
   "source": [
    "# print(len(tuple1))"
   ]
  },
  {
   "cell_type": "markdown",
   "id": "c4eb8e38-8ea1-436e-8010-6093a730f559",
   "metadata": {},
   "source": [
    "* Acceso por índice."
   ]
  },
  {
   "cell_type": "code",
   "execution_count": null,
   "id": "ba797d79-b866-477d-b534-a6cd426b4620",
   "metadata": {},
   "outputs": [],
   "source": [
    "# tuple1 = ('Foo', 1, 2, 3)\n",
    "\n",
    "# print(tuple1[0]) # Primer elemento\n",
    "# print(tuple1[len(tuple1)-1]) # Último elemento\n",
    "\n",
    "# print(tuple1[-1]) # Índices negativos comienzan desde el final\n",
    "# print(tuple1[-len(tuple1)]) # primer elemento"
   ]
  },
  {
   "cell_type": "markdown",
   "id": "75d810f7-a792-4d5f-afc1-e547b7321215",
   "metadata": {},
   "source": [
    "* Asignación a tuplas falla. Son immutables."
   ]
  },
  {
   "cell_type": "code",
   "execution_count": null,
   "id": "3e62167c-3512-4e29-8185-720e04c8496c",
   "metadata": {},
   "outputs": [],
   "source": [
    "# tuple1[0] = 'bar'"
   ]
  },
  {
   "cell_type": "code",
   "execution_count": null,
   "id": "8c96d5f5-b184-4af7-b87d-55d1d5d83f2a",
   "metadata": {},
   "outputs": [],
   "source": [
    "# print(id(tuple1))\n",
    "# lista = list(tuple1)\n",
    "# lista[0] = 'bar'\n",
    "# tuple1 = tuple(lista)\n",
    "# print(id(tuple1))\n",
    "\n",
    "# print(tuple1)"
   ]
  },
  {
   "cell_type": "markdown",
   "id": "c06cb0c5-f63a-4d43-aa7c-f2a006de491c",
   "metadata": {},
   "source": [
    "* Contar número de ocurrencias de un elemento."
   ]
  },
  {
   "cell_type": "code",
   "execution_count": null,
   "id": "0ca469b7-efbc-4342-a138-36b247d66013",
   "metadata": {},
   "outputs": [],
   "source": [
    "# tuple1 = ('Foo',34, 5.0, 34)\n",
    "# print(tuple1.count(34))"
   ]
  },
  {
   "cell_type": "markdown",
   "id": "cbb4975d-f415-4f04-8ba5-1ec836759195",
   "metadata": {},
   "source": [
    "* Encontrar el índice de un elemento."
   ]
  },
  {
   "cell_type": "code",
   "execution_count": null,
   "id": "76eb942f-6b54-400e-a6d5-098f32f6904c",
   "metadata": {},
   "outputs": [],
   "source": [
    "# tuple1 = ('Foo', 34, 5.0, 34)\n",
    "# indice = tuple1.index(34)\n",
    "\n",
    "# print(indice)\n",
    "# print(tuple1[indice])"
   ]
  },
  {
   "cell_type": "code",
   "execution_count": null,
   "id": "5369d3a4-58f0-4d76-8643-87f8e12a67ff",
   "metadata": {},
   "outputs": [],
   "source": [
    "# Si el elemento no existe, error\n",
    "\n",
    "# tuple1 = ('Foo', 34, 5.0, 34)\n",
    "# print(tuple1.index(1))"
   ]
  },
  {
   "cell_type": "code",
   "execution_count": null,
   "id": "c9ac5b2f-3f76-4318-9aac-e4274797ead5",
   "metadata": {},
   "outputs": [],
   "source": [
    "# comprobar si existe antes\n",
    "# tuple1 = ('Foo',34, 5.0, 34)\n",
    "\n",
    "# elemento = 35\n",
    "# if elemento in tuple1:\n",
    "#     print(tuple1.index(elemento))\n",
    "# else:\n",
    "#     print(str(elemento) + ' not found')"
   ]
  },
  {
   "cell_type": "markdown",
   "id": "c7dceadc-6c02-4d5b-bf55-07e44ad20466",
   "metadata": {},
   "source": [
    "* Desempaquetar una tupla."
   ]
  },
  {
   "cell_type": "code",
   "execution_count": null,
   "id": "b8a5be46-6bf8-4120-b3f1-52d4d2936dd9",
   "metadata": {},
   "outputs": [],
   "source": [
    "# tuple1 = (1, 2, 3, 4)\n",
    "# a, b, c, d = tuple1  # a,b,c - a,b,c,d - a,b,_,_ - a, *_ \n",
    "\n",
    "# print(a)\n",
    "# print(b)\n",
    "# print(_)\n",
    "# print(d)"
   ]
  },
  {
   "cell_type": "code",
   "execution_count": null,
   "id": "13541097-e2d9-4f5d-a3ae-1eb2dc426f1e",
   "metadata": {},
   "outputs": [],
   "source": [
    "# a, b, *resto = tuple1\n",
    "# print(a)\n",
    "# print(b)\n",
    "# print(resto)"
   ]
  },
  {
   "cell_type": "markdown",
   "id": "8f14204f-6a81-4643-8f7e-27bac349c370",
   "metadata": {},
   "source": [
    "<img src=\"img/data_types/tuplepacking.png\" width=\"550\">"
   ]
  },
  {
   "cell_type": "markdown",
   "id": "c18e0dc8-a081-4b0b-a147-51e83bde2104",
   "metadata": {},
   "source": [
    "<img src=\"img/data_types/tupleunpacking.png\" width=\"450\">"
   ]
  },
  {
   "cell_type": "markdown",
   "id": "feda3f32-ffd2-4f68-9889-b12638d0a2d6",
   "metadata": {
    "slideshow": {
     "slide_type": "subslide"
    }
   },
   "source": [
    "## Secuencias\n",
    "- Formalmente, objetos iterables no materializados\n",
    "- No son listas. 'list()' para materializarla \n",
    "- 'range' o 'enumerate'"
   ]
  },
  {
   "cell_type": "code",
   "execution_count": null,
   "id": "d58c00ed-d764-4148-95e3-519d1913ddfd",
   "metadata": {},
   "outputs": [],
   "source": [
    "# list(range(0,10,2))"
   ]
  },
  {
   "cell_type": "code",
   "execution_count": null,
   "id": "36a1c28e-490b-4f72-8abf-d98d21409ce5",
   "metadata": {
    "tags": []
   },
   "outputs": [],
   "source": [
    "# lista = [10, 20, 30]\n",
    "# print(list(enumerate(lista)))"
   ]
  },
  {
   "cell_type": "code",
   "execution_count": null,
   "id": "6e6e83ea-164d-49e6-9c4d-2a9ec685ab79",
   "metadata": {
    "slideshow": {
     "slide_type": "fragment"
    }
   },
   "outputs": [],
   "source": [
    "# enumerate para iterar una colección (índice y valor)\n",
    "# lista = [10, 20, 30]\n",
    "# for index, value in enumerate(lista):\n",
    "#     print('Index = ' + str(index) + '. Value = ' + str(value))\n",
    "    \n",
    "# for index, value in [(0,10), (1,20), (2,30)]:\n",
    "#     print('Index = ' + str(index) + '. Value = ' + str(value))    "
   ]
  },
  {
   "cell_type": "code",
   "execution_count": null,
   "id": "aa2e96e5-ddda-4373-b28a-b27d2baf5566",
   "metadata": {
    "slideshow": {
     "slide_type": "fragment"
    }
   },
   "outputs": [],
   "source": [
    "# enumerate para iterar una colección (índice y valor)\n",
    "# for index, value in enumerate(range(0,10,2)):\n",
    "#     print('Index = ' + str(index) + '. Value = ' + str(value))\n",
    "    \n",
    "# for value in enumerate(range(0,10,2)):\n",
    "#     print(value) "
   ]
  },
  {
   "cell_type": "code",
   "execution_count": null,
   "id": "01252502-1be8-468e-a949-5291fa93ab06",
   "metadata": {
    "slideshow": {
     "slide_type": "fragment"
    }
   },
   "outputs": [],
   "source": [
    "# zip para unir, elemento a elemento, dos colecciones, retornando lista de tuplas\n",
    "# útil para iterar dos listas al mismo tiempo\n",
    "# nombres = ['Manolo','Pepe','Luis']\n",
    "# edades = [31,34,34,45]\n",
    "\n",
    "# for nombre,edad in zip(nombres,edades):\n",
    "#     print('Nombre: ' + nombre + ', edad: ' + str(edad))"
   ]
  },
  {
   "cell_type": "code",
   "execution_count": null,
   "id": "f1492648-d923-46b2-b51d-54cf75257f99",
   "metadata": {},
   "outputs": [],
   "source": [
    "# nombres = ['Manolo','Pepe','Luis']\n",
    "# edades = [31,34,34]\n",
    "\n",
    "# for i in range(0,len(nombres)):\n",
    "#     print(f\"Nombre es {nombres[i]} y edad es {edades[i]}\")"
   ]
  },
  {
   "cell_type": "code",
   "execution_count": null,
   "id": "ae1894af-d348-41c5-bbab-989e92ca9a7f",
   "metadata": {
    "scrolled": true,
    "slideshow": {
     "slide_type": "fragment"
    }
   },
   "outputs": [],
   "source": [
    "# nombres = ['Manolo','Pepe','Luis']\n",
    "# edades = [31,34,34]\n",
    "# jugadores = zip(nombres,edades)   # genera secuencia\n",
    "# print(list(jugadores))\n",
    "# print(type(jugadores))"
   ]
  },
  {
   "cell_type": "code",
   "execution_count": null,
   "id": "42fde08d-468d-495e-a935-4663d91e20db",
   "metadata": {
    "slideshow": {
     "slide_type": "fragment"
    }
   },
   "outputs": [],
   "source": [
    "# listas de diferentes longitudes\n",
    "# nombres = ['Manolo','Pepe','Luis']\n",
    "# edades = [31,34,34,44,33]\n",
    "# jugadores = zip(nombres,edades)\n",
    "# print(list(jugadores))"
   ]
  },
  {
   "cell_type": "code",
   "execution_count": null,
   "id": "491dc05f-a104-4fa0-add7-288af27540c2",
   "metadata": {
    "scrolled": true,
    "slideshow": {
     "slide_type": "fragment"
    }
   },
   "outputs": [],
   "source": [
    "# unzip \n",
    "# nombres = ['Manolo','Pepe','Luis']\n",
    "# edades = [31,34,34]\n",
    "# alturas = [120, 130, 140]\n",
    "# jugadores = zip(nombres,edades, alturas)\n",
    "# # print(list(jugadores))\n",
    "\n",
    "# ns, es, al = zip(*jugadores)\n",
    "# print(list(ns))\n",
    "# print(es)\n",
    "# print(al)"
   ]
  },
  {
   "cell_type": "code",
   "execution_count": null,
   "id": "4ec64206-f1e8-4702-ac08-5f416fe34d23",
   "metadata": {
    "slideshow": {
     "slide_type": "fragment"
    }
   },
   "outputs": [],
   "source": [
    "# nombres = ['Manolo','Pepe','Luis']\n",
    "# edades = [31,34,34]\n",
    "# dd = [23,34,45]\n",
    "# jugadores_z = zip(nombres,edades, dd)\n",
    "# # print(list(jugadores_z))\n",
    "\n",
    "# jugadores_uz = zip(*jugadores_z)\n",
    "# print(list(jugadores_uz))"
   ]
  },
  {
   "cell_type": "markdown",
   "id": "0d9d6915-55b8-4877-a7f5-8c92ac6a7669",
   "metadata": {},
   "source": [
    "## Para terminar, volvemos a enfatizar un matiz importante ...\n",
    "\n",
    "> **En Python todo son objetos**\n",
    "\n",
    "Cada objeto tiene:\n",
    "\n",
    "* **Identidad**: Nunca cambia una vez creado. Es como la dirección de memoria. Operador **is** compara identidad. Función **id()** devuelve identidad.\n",
    "* **Tipo**: determina posibles valores y operaciones. Función **type()** devuelve el tipo. No cambia.\n",
    "* **Valor**: que pueden ser *mutables* e *inmutables*.\n",
    "\n",
    "   * Tipos mutables: list, dictionary, set y tipos definidos por el usuario.\n",
    "   * Tipos inmutables: int, float, bool, string y tuple."
   ]
  },
  {
   "cell_type": "code",
   "execution_count": null,
   "id": "e1725c39-fef8-4e6a-9f59-aa1719ad0d94",
   "metadata": {
    "tags": []
   },
   "outputs": [],
   "source": [
    "# Asignación\n",
    "\n",
    "# list_numbers = [1, 2, 3]  # Lista (mutable)\n",
    "# tuple_numbers = (1, 2, 3) # Tupla (inmutable)\n",
    "\n",
    "# print(list_numbers[0])\n",
    "# print(tuple_numbers[0])\n",
    "\n",
    "# list_numbers[0] = 100\n",
    "# # tuple_numbers[0] = 100 \n",
    "\n",
    "# print(list_numbers)\n",
    "# print(tuple_numbers)\n",
    "\n",
    "# tuple_l_numbers = list(tuple_numbers)\n",
    "# tuple_l_numbers[0] = 100\n",
    "# tuple_numbers = tuple(tuple_l_numbers)\n",
    "# print(tuple_numbers)\n"
   ]
  },
  {
   "cell_type": "code",
   "execution_count": null,
   "id": "e485281b-510a-49dc-bec7-0f1062d5a7ba",
   "metadata": {},
   "outputs": [],
   "source": [
    "# Identidad\n",
    "\n",
    "# list_numbers = [1, 2, 3] \n",
    "# tuple_numbers = (1, 2, 3)\n",
    "\n",
    "# print('Id list_numbers:  ' + str(id(list_numbers)))\n",
    "# print('Id tuple_numbers: ' + str(id(tuple_numbers)))\n",
    "\n",
    "# list_numbers += [4, 5, 6]  # La lista original se extiende\n",
    "# tuple_numbers += (4, 5, 6) # Se crea un nuevo objeto\n",
    "\n",
    "# print(list_numbers)\n",
    "# print(tuple_numbers)\n",
    "\n",
    "# print('Id list_numbers:  ' + str(id(list_numbers)))\n",
    "# print('Id tuple_numbers: ' + str(id(tuple_numbers)))"
   ]
  },
  {
   "cell_type": "code",
   "execution_count": null,
   "id": "0ef962b9-364e-408c-8268-22b4089c670c",
   "metadata": {},
   "outputs": [],
   "source": [
    "# Referencias\n",
    "\n",
    "# list_numbers = [1, 2, 3]\n",
    "# list_numbers_2 = list_numbers  # list_numbers_2 referencia a list_numbers\n",
    "\n",
    "# print('Id list_numbers:  ' + str(id(list_numbers)))\n",
    "# print('Id list_numbers_2:  ' + str(id(list_numbers_2)))\n",
    "\n",
    "# list_numbers.append(4) # Se actualiza list_numbers2 también\n",
    "\n",
    "# print(list_numbers)\n",
    "# print(list_numbers_2)\n",
    "\n",
    "# print('Id list_numbers:  ' + str(id(list_numbers)))\n",
    "# print('Id list_numbers_2:  ' + str(id(list_numbers_2)))"
   ]
  },
  {
   "cell_type": "code",
   "execution_count": null,
   "id": "b44af195-6624-44f3-a937-1cb3083636c4",
   "metadata": {},
   "outputs": [],
   "source": [
    "# text = \"Hola\" # Inmutable\n",
    "# text_2 = text  # Referencia\n",
    "\n",
    "# print('Id text:  ' + str(id(text)))\n",
    "# print('Id text_2:  ' + str(id(text_2)))\n",
    "\n",
    "# text += \" Mundo\"\n",
    "\n",
    "# print(text)\n",
    "# print(text_2)\n",
    "\n",
    "# print('Id text:  ' + str(id(text)))\n",
    "# print('Id text_2:  ' + str(id(text_2)))"
   ]
  },
  {
   "cell_type": "code",
   "execution_count": null,
   "id": "1a6e0260-e920-4c5a-b89e-11e528ad36a7",
   "metadata": {
    "tags": []
   },
   "outputs": [],
   "source": [
    "# teams = [\"Team A\", \"Team B\", \"Team C\"] # Mutable\n",
    "# player = (23, teams) # Inmutable\n",
    "\n",
    "# print(type(player))\n",
    "# print(player)\n",
    "# print(id(player))\n",
    "\n",
    "# teams[2] = \"Team J\"\n",
    "\n",
    "# print(player)\n",
    "# print(id(player))\n",
    "\n",
    "# player[1][0] = 'Team XX'\n",
    "# print(teams)"
   ]
  },
  {
   "cell_type": "markdown",
   "id": "cc82194b-a72a-408a-8613-2d05912c3087",
   "metadata": {},
   "source": [
    "## Ejercicios"
   ]
  },
  {
   "cell_type": "markdown",
   "id": "74656bd4-b5f2-44e0-845b-c1f1cbcc8b9a",
   "metadata": {},
   "source": [
    "1. Escribe un programa que muestre por pantalla la concatenación de un número y una cadena de caracteres. Para obtener esta concatenación puedes usar uno de los operadores explicados en este tema. Ejemplo: dado el número 3 y la cadena 'abc', el programa mostrará la cadena '3abc'.\n",
    "\n",
    "2. Escribe un programa que muestre por pantalla un valor booleano que indique si un número entero *N* está contenido en un intervalo semiabierto *[a,b)*, el cual establece una cota inferior *a* (inclusive) y una cota superior *b* (exclusive) para *N*.\n",
    "\n",
    "3. Escribe un programa que, dado dos strings *S1* y *S2* y dos números enteros *N1* y *N2*, determine si el substring que en *S1* se extiende desde la posición *N1* a la *N2* (ambos inclusive) está contenido en *S2*.\n",
    "\n",
    "4. Dada una *lista* con elementos duplicados, escribir un programa que muestre una nueva *lista* con el mismo contenido que la primera pero sin elementos duplicados.\n",
    "\n",
    "5. Escribe un programa que, dada una *lista* de strings *L*, un string *s* perteneciente a *L* y un string *t*, reemplace *s* por *t* en *L*. El programa debe mostrar la lista resultante por pantalla.\n",
    "\n",
    "6. Escribe un programa que defina una *tupla* con elementos numéricos, reemplace el valor del último por un valor diferente y muestre la *tupla* por pantalla. Recuerda que las *tuplas* son inmutables. Tendrás que usar objetos intermedios.\n",
    "\n",
    "7. Dada la lista [1,2,3,4,5,6,7,8] escribe un programa que, a partir de esta lista, obtenga la lista [8,6,4,2] y la muestre por pantalla.\n",
    "\n",
    "8. Escribe un programa que, dada una tupla y un índice válido *i*, elimine el elemento de la tupla que se encuentra en la posición *i*. Para este ejercicio sólo puedes usar objetos de tipo tupla. No puedes convetir la *tupla* a una *lista*, por ejemplo.\n",
    "\n",
    "9. Escribe un programa que obtenga la mediana de una *lista* de números. Recuerda que la mediana *M* de una lista de números *L* es el número que cumple la siguiente propiedad: la mitad de los números de *L* son superiores a *M* y la otra mitad son inferiores. Cuando el número de elementos de *L* es par, se puede considerar que hay dos medianas. No obstante, en este ejercicio consideraremos que únicamente existe una mediana."
   ]
  },
  {
   "cell_type": "markdown",
   "id": "b23dc696-cd86-454b-b802-8363f3ac39a0",
   "metadata": {},
   "source": []
  },
  {
   "cell_type": "code",
   "execution_count": null,
   "id": "f7f15ca4-0c74-4c8a-a016-b829efcca76a",
   "metadata": {},
   "outputs": [],
   "source": []
  },
  {
   "cell_type": "code",
   "execution_count": null,
   "id": "c3977af1-8434-43e9-8a8c-edeaca6a556c",
   "metadata": {},
   "outputs": [],
   "source": []
  },
  {
   "cell_type": "code",
   "execution_count": null,
   "id": "f01f20b8-0ac6-440d-bd1b-8036626f92ec",
   "metadata": {},
   "outputs": [],
   "source": []
  },
  {
   "cell_type": "code",
   "execution_count": null,
   "id": "fdf2997b-100b-45ef-b4a6-c45831a8569d",
   "metadata": {},
   "outputs": [],
   "source": []
  },
  {
   "cell_type": "code",
   "execution_count": null,
   "id": "85d30541-8216-457e-9088-e1f7e57aa56c",
   "metadata": {},
   "outputs": [],
   "source": []
  },
  {
   "cell_type": "code",
   "execution_count": null,
   "id": "4ffe49f2-ac40-4d43-b285-e9bc3c6094d6",
   "metadata": {},
   "outputs": [],
   "source": []
  },
  {
   "cell_type": "code",
   "execution_count": null,
   "id": "2de8d6b9-ea04-4e49-9246-1f8b02f71063",
   "metadata": {},
   "outputs": [],
   "source": []
  },
  {
   "cell_type": "code",
   "execution_count": null,
   "id": "6a305904-ae53-4100-8e0e-8e5671bb7341",
   "metadata": {},
   "outputs": [],
   "source": []
  },
  {
   "cell_type": "code",
   "execution_count": null,
   "id": "ae3b35cc-eefd-4784-a48f-38172a79c147",
   "metadata": {},
   "outputs": [],
   "source": []
  },
  {
   "cell_type": "markdown",
   "id": "7707cd1c-e7a8-460c-9d00-dffdf3f8682e",
   "metadata": {},
   "source": [
    "# Conclusiones\n",
    "\n",
    "No aplica"
   ]
  },
  {
   "cell_type": "markdown",
   "id": "90198c24-c454-492f-8e71-d4c36a4f70d2",
   "metadata": {},
   "source": [
    "# Referencias\n",
    "\n",
    "No aplica"
   ]
  }
 ],
 "metadata": {
  "kernelspec": {
   "display_name": "Python 3 (ipykernel)",
   "language": "python",
   "name": "python3"
  },
  "language_info": {
   "codemirror_mode": {
    "name": "ipython",
    "version": 3
   },
   "file_extension": ".py",
   "mimetype": "text/x-python",
   "name": "python",
   "nbconvert_exporter": "python",
   "pygments_lexer": "ipython3",
   "version": "3.13.5"
  }
 },
 "nbformat": 4,
 "nbformat_minor": 5
}

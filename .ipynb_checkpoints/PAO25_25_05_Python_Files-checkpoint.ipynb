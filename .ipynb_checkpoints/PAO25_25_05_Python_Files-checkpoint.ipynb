{
 "cells": [
  {
   "cell_type": "markdown",
   "id": "64a35764-acdd-4305-89f8-18fc2098a1ef",
   "metadata": {},
   "source": [
    "<img src=\"img/Recurso-26.png\" width=\"200\">\n",
    "\n",
    "## 01MIAR - Ficheros\n",
    "\n",
    "![logo](img/python_logo.png)\n",
    "\n",
    "**Nombre:** David L. Mejía<br>\n",
    "**Fecha:** 05/07/2025<br>\n",
    "**Git:** https://github.com/mcdavidleonardo/MachineLearning1/blob/main/PAO25_25_05_Python_Files.ipynb<br>"
   ]
  },
  {
   "cell_type": "markdown",
   "id": "19c7f39d-ba33-4509-b741-70ea8dab6da9",
   "metadata": {},
   "source": [
    "# Acceso a ficheros"
   ]
  },
  {
   "cell_type": "markdown",
   "id": "993158b7-0178-469f-a9a6-cdee6fdd27d3",
   "metadata": {},
   "source": [
    "## Ficheros"
   ]
  },
  {
   "cell_type": "markdown",
   "id": "a973d1ed-b618-411a-9df3-bbae0a6327f0",
   "metadata": {},
   "source": [
    "* *File* es un tipo de objeto predefinido en Python (*built-in*).\n",
    "* Permite acceder a ficheros desde programas Python.\n",
    "* Los ficheros son de un tipo especial:\n",
    "    * Son *built-in*, pero no son ni *números*, ni *secuencias*, ni *mappings*. Tampoco responden a operadores en expresiones.\n",
    "* La función *open* permite crear objetos de tipo fichero."
   ]
  },
  {
   "cell_type": "markdown",
   "id": "64ad3e23-5a68-486c-a6af-35eeb8fa98c8",
   "metadata": {},
   "source": [
    "Formato general para abrir un fichero:\n",
    "\n",
    "```\n",
    "afile = open(filename, mode)\n",
    "```\n",
    "\n",
    "* *mode* es opcional. Por defecto, los ficheros se abren en modo lectura.\n",
    "* Los datos leidos de un fichero siempre se obtienen en formato *string*. Lo mismo ocurre con escritura.\n",
    "* Los ficheros se deben cerrar invocando *close* (liberación de recursos)."
   ]
  },
  {
   "cell_type": "code",
   "execution_count": 1,
   "id": "1851523c-9fd6-4354-a257-cd23e8aac7f2",
   "metadata": {},
   "outputs": [
    {
     "name": "stdout",
     "output_type": "stream",
     "text": [
      "Hola mundo desde un fichero.\n"
     ]
    }
   ],
   "source": [
    "# Lectura desde fichero usando método 'read'. Devuelve todo el contenido del fichero.\n",
    "mi_fichero = open('res/one_line.txt')\n",
    "print(mi_fichero.read())\n",
    "mi_fichero.close()"
   ]
  },
  {
   "cell_type": "code",
   "execution_count": 2,
   "id": "3e3ea4ea-3465-44d6-8254-937e7754c6be",
   "metadata": {},
   "outputs": [
    {
     "name": "stdout",
     "output_type": "stream",
     "text": [
      "Este fichero\n",
      "\n",
      "contiene tres\n",
      "\n",
      "lineas de texto.\n",
      "\n"
     ]
    }
   ],
   "source": [
    "# Lectura linea a linea a través del bucle 'for'.\n",
    "mi_fichero = open('res/multiple_lines.txt')\n",
    "for linea in mi_fichero:\n",
    "    print(f\"{linea}\")\n",
    "mi_fichero.close()"
   ]
  },
  {
   "cell_type": "code",
   "execution_count": 3,
   "id": "9654cbbc-7ee8-4448-8ba0-d3f84971d863",
   "metadata": {},
   "outputs": [
    {
     "name": "stdout",
     "output_type": "stream",
     "text": [
      "['Este fichero\\n', 'contiene tres\\n', 'lineas de texto.\\n']\n"
     ]
    }
   ],
   "source": [
    "# leer de un archivo a una lista.\n",
    "mi_fichero = open('res/multiple_lines.txt')\n",
    "lineas = mi_fichero.readlines()\n",
    "mi_fichero.close()\n",
    "\n",
    "print(lineas)"
   ]
  },
  {
   "cell_type": "markdown",
   "id": "1ecdc36b-2af3-4cf7-a404-6111af6f72c2",
   "metadata": {},
   "source": [
    "- Resolución de paths independiente de plataforma"
   ]
  },
  {
   "cell_type": "code",
   "execution_count": 4,
   "id": "cf7452a5-3a09-41de-9df1-65b0e5c8ce03",
   "metadata": {},
   "outputs": [
    {
     "name": "stdout",
     "output_type": "stream",
     "text": [
      "res\\multiple_lines.txt\n"
     ]
    }
   ],
   "source": [
    "import os\n",
    "ruta = os.path.join(\"res\", \"multiple_lines.txt\")\n",
    "print(ruta)"
   ]
  },
  {
   "cell_type": "code",
   "execution_count": 5,
   "id": "34ee10e4-fee1-4c7a-a44e-b551bdd72a56",
   "metadata": {},
   "outputs": [
    {
     "name": "stdout",
     "output_type": "stream",
     "text": [
      "res\\multiple_lines.txt\n"
     ]
    }
   ],
   "source": [
    "dataset_file_path = [\"res\", \"multiple_lines.txt\"]\n",
    "ruta = os.path.join(*dataset_file_path)\n",
    "print(ruta)"
   ]
  },
  {
   "cell_type": "markdown",
   "id": "631c1035-60d0-41a1-8c86-62f71aa0464d",
   "metadata": {},
   "source": [
    "* *close* autómatico con sentencia *with.* Esta es la forma habitual de leer de fichero en Python, context manager"
   ]
  },
  {
   "cell_type": "code",
   "execution_count": 6,
   "id": "c9601a35-df69-4344-ba27-4fa9bf009d73",
   "metadata": {},
   "outputs": [
    {
     "name": "stdout",
     "output_type": "stream",
     "text": [
      "Este fichero\n",
      "contiene tres\n",
      "lineas de texto.\n"
     ]
    }
   ],
   "source": [
    "with open(ruta) as mi_fichero:\n",
    "    for linea in mi_fichero:\n",
    "        print(linea, end= '')"
   ]
  },
  {
   "cell_type": "markdown",
   "id": "818d2597-10a8-4bca-a260-9060da7c76bb",
   "metadata": {},
   "source": [
    "* Se puede abrir varios ficheros en un mismo *with*."
   ]
  },
  {
   "cell_type": "code",
   "execution_count": 7,
   "id": "45874f5a-20e7-4dbc-a86f-92ddc0624a48",
   "metadata": {},
   "outputs": [
    {
     "name": "stdout",
     "output_type": "stream",
     "text": [
      "['Hola mundo desde un fichero.']\n",
      "['Este fichero\\n', 'contiene tres\\n', 'lineas de texto.\\n']\n"
     ]
    }
   ],
   "source": [
    "#abrir varios ficheros en el mismo with\n",
    "ruta1 = os.path.join(\"res\", \"one_line.txt\")\n",
    "ruta2 = os.path.join(\"res\", \"multiple_lines.txt\")\n",
    "with open(ruta1) as fichero1, open(ruta2) as fichero2:\n",
    "    print(fichero1.readlines())\n",
    "    print(fichero2.readlines())"
   ]
  },
  {
   "cell_type": "markdown",
   "id": "5da52919-f9e1-4b0d-aa04-0c33df20129b",
   "metadata": {},
   "source": [
    "## Modos de acceso"
   ]
  },
  {
   "cell_type": "markdown",
   "id": "2c240e7b-21cd-496b-a48d-48a583e1c311",
   "metadata": {},
   "source": [
    "* Al crear un objeto de tipo *File* se puede espeficiar el modo de acceso (lectura/escritura).\n",
    "\n",
    "| Modo Acceso | Descripción |\n",
    "|:---------|:-----|\n",
    "| r | Solo Lectura |\n",
    "| w | Solo Escritura (Borra si el archivo ya existe) |\n",
    "| x | Solo Escritura (Falla si el archivo ya existe) |\n",
    "| a | Crea Fichero (Si existe lo abre y se añade al final) |\n",
    "| r+ | Lectura y Escritura |\n",
    "| b | Se puede añadir a otros modos para acceso binario\n",
    "| t | Acceso para archivos de texto (default) |"
   ]
  },
  {
   "cell_type": "markdown",
   "id": "68bc84d8-92d1-4b89-b0e2-b64ea09e0586",
   "metadata": {},
   "source": [
    "## Acceso para escritura"
   ]
  },
  {
   "cell_type": "code",
   "execution_count": 12,
   "id": "f2bf8a24-ac3f-443d-b3fc-c6b2a7f2a3ac",
   "metadata": {},
   "outputs": [],
   "source": [
    "def crear_lista(tamanyo):\n",
    "    lista = []\n",
    "    for i in range(tamanyo):\n",
    "        lista.append(str(i) + '\\n')\n",
    "    return lista\n",
    "\n",
    "ruta = os.path.join(\"res\", \"o_dummy.txt\")\n",
    "with open(ruta, 'wt') as fichero:\n",
    "    fichero.write('Cabecera\\n')\n",
    "    lista = crear_lista(10)\n",
    "    fichero.writelines(lista)\n"
   ]
  },
  {
   "cell_type": "markdown",
   "id": "899e3a5d-f4ec-4ba7-b439-1f587a0ff542",
   "metadata": {},
   "source": [
    "#### Buffering"
   ]
  },
  {
   "cell_type": "markdown",
   "id": "ebb46d3f-d85c-4e02-8e4b-8584a3f4041b",
   "metadata": {},
   "source": [
    "* Por defecto, el texto que transfieres desde tu programa a un fichero no se guarda en disco inmediatamente. Se almacena en un buffer.\n",
    "* Acciones como cerrar un fichero o invocar el método **flush** fuerzan que se transfiera el contenido del buffer a disco."
   ]
  },
  {
   "cell_type": "code",
   "execution_count": 14,
   "id": "0989d125-365f-44a2-8be6-e7311dacea2b",
   "metadata": {},
   "outputs": [
    {
     "name": "stdout",
     "output_type": "stream",
     "text": [
      "['foo']\n",
      "[]\n"
     ]
    }
   ],
   "source": [
    "ruta = os.path.join(\"res\", \"FicheroParaEscritura.txt\")\n",
    "fichero_write = open(ruta, 'w')\n",
    "fichero_write.write('foo')\n",
    "\n",
    "fichero_read = open(ruta, \"r\")\n",
    "print(fichero_read.readlines())\n",
    "\n",
    "fichero_write.flush()\n",
    "\n",
    "print(fichero_read.readlines())\n",
    "\n",
    "fichero_write.close()\n",
    "fichero_read.close()"
   ]
  },
  {
   "cell_type": "markdown",
   "id": "a440cdad-4a8a-4dc3-977f-ac358817ac35",
   "metadata": {},
   "source": [
    "## Archivos CSV"
   ]
  },
  {
   "cell_type": "markdown",
   "id": "db4aa09f-2046-4915-b075-bbb4506ec11e",
   "metadata": {
    "tags": []
   },
   "source": [
    "* Python permite leer datos de ficheros CSV y también escribir ficheros en este formato.\n",
    "* Popular formato en ciencia de datos."
   ]
  },
  {
   "cell_type": "code",
   "execution_count": 15,
   "id": "7272687a-ef89-4628-b6c5-d9607fb1b2d1",
   "metadata": {},
   "outputs": [
    {
     "name": "stdout",
     "output_type": "stream",
     "text": [
      "Operacion  ----  Descripcion\n",
      "a + b  ----  suma a y b\n",
      "a - b  ----  resta a menos b\n",
      "a / b  ----  a dividido\n",
      "a // b  ----  a dividido entre b (quitando decimales)\n",
      "a % b  ----  devuelve el resto de la divisiÃ³n a/b (modulus)\n",
      "a * b  ----  a multiplicado por b\n",
      "a ** b  ----  a elevado a b\n"
     ]
    }
   ],
   "source": [
    "# tabla_operaciones.csv contiene valores separados por comas\n",
    "import csv\n",
    "ruta = os.path.join(\"res\", \"tabla_operaciones.csv\")\n",
    "\n",
    "with open(ruta) as fichero:\n",
    "    data_reader = csv.reader(fichero, delimiter=',')\n",
    "    for linea in data_reader:\n",
    "        print(linea[0] + '  ----  ' + linea[1])"
   ]
  },
  {
   "cell_type": "code",
   "execution_count": 16,
   "id": "59434ab7-ef76-46ec-95c1-8552f7ecac16",
   "metadata": {},
   "outputs": [
    {
     "name": "stdout",
     "output_type": "stream",
     "text": [
      "['Operacion', 'Descripcion']\n",
      "['a + b', 'suma a y b']\n",
      "['a - b', 'resta a menos b']\n",
      "['a / b', 'a dividido']\n",
      "['a // b', 'a dividido entre b (quitando decimales)']\n",
      "['a % b', 'devuelve el resto de la divisiÃ³n a/b (modulus)']\n",
      "['a * b', 'a multiplicado por b']\n",
      "['a ** b', 'a elevado a b']\n"
     ]
    }
   ],
   "source": [
    "ruta = os.path.join(\"res\", \"tabla_operaciones.csv\")\n",
    "f = open(ruta)\n",
    "data_reader = csv.reader(f, delimiter = ',')\n",
    "\n",
    "ruta_o = os.path.join(\"res\", \"o_tabla_operaciones.csv\")\n",
    "with open(ruta_o, 'w') as f2:\n",
    "    csv_writer = csv.writer(f2, delimiter = '|')\n",
    "    for line in data_reader:\n",
    "        print(line)\n",
    "        csv_writer.writerow(line)\n",
    "        \n",
    "f.close()"
   ]
  },
  {
   "cell_type": "markdown",
   "id": "a2097f2f-627c-45b6-8fe6-0cb86790a988",
   "metadata": {},
   "source": [
    "# Docstrings"
   ]
  },
  {
   "cell_type": "markdown",
   "id": "8e891d46-6144-4742-b599-d3a303544533",
   "metadata": {},
   "source": [
    "* Python permite adjuntar documentación a los objetos e inspeccionarla a través de la línea de comandos o durante la ejecución del programa.\n",
    "* Los docstrings se almacenan en el atributo *\\_\\_doc\\_\\_* de cada objeto.\n",
    "* El valor de dicho atributo se puede mostrar por medio de la función *help*."
   ]
  },
  {
   "cell_type": "code",
   "execution_count": 17,
   "id": "b245f99a-5a4c-45cf-8209-6f3d66c617c5",
   "metadata": {},
   "outputs": [
    {
     "name": "stdout",
     "output_type": "stream",
     "text": [
      "Help on function open in module _io:\n",
      "\n",
      "open(\n",
      "    file,\n",
      "    mode='r',\n",
      "    buffering=-1,\n",
      "    encoding=None,\n",
      "    errors=None,\n",
      "    newline=None,\n",
      "    closefd=True,\n",
      "    opener=None\n",
      ")\n",
      "    Open file and return a stream.  Raise OSError upon failure.\n",
      "\n",
      "    file is either a text or byte string giving the name (and the path\n",
      "    if the file isn't in the current working directory) of the file to\n",
      "    be opened or an integer file descriptor of the file to be\n",
      "    wrapped. (If a file descriptor is given, it is closed when the\n",
      "    returned I/O object is closed, unless closefd is set to False.)\n",
      "\n",
      "    mode is an optional string that specifies the mode in which the file\n",
      "    is opened. It defaults to 'r' which means open for reading in text\n",
      "    mode.  Other common values are 'w' for writing (truncating the file if\n",
      "    it already exists), 'x' for creating and writing to a new file, and\n",
      "    'a' for appending (which on some Unix systems, means that all writes\n",
      "    append to the end of the file regardless of the current seek position).\n",
      "    In text mode, if encoding is not specified the encoding used is platform\n",
      "    dependent: locale.getencoding() is called to get the current locale encoding.\n",
      "    (For reading and writing raw bytes use binary mode and leave encoding\n",
      "    unspecified.) The available modes are:\n",
      "\n",
      "    ========= ===============================================================\n",
      "    Character Meaning\n",
      "    --------- ---------------------------------------------------------------\n",
      "    'r'       open for reading (default)\n",
      "    'w'       open for writing, truncating the file first\n",
      "    'x'       create a new file and open it for writing\n",
      "    'a'       open for writing, appending to the end of the file if it exists\n",
      "    'b'       binary mode\n",
      "    't'       text mode (default)\n",
      "    '+'       open a disk file for updating (reading and writing)\n",
      "    ========= ===============================================================\n",
      "\n",
      "    The default mode is 'rt' (open for reading text). For binary random\n",
      "    access, the mode 'w+b' opens and truncates the file to 0 bytes, while\n",
      "    'r+b' opens the file without truncation. The 'x' mode implies 'w' and\n",
      "    raises an `FileExistsError` if the file already exists.\n",
      "\n",
      "    Python distinguishes between files opened in binary and text modes,\n",
      "    even when the underlying operating system doesn't. Files opened in\n",
      "    binary mode (appending 'b' to the mode argument) return contents as\n",
      "    bytes objects without any decoding. In text mode (the default, or when\n",
      "    't' is appended to the mode argument), the contents of the file are\n",
      "    returned as strings, the bytes having been first decoded using a\n",
      "    platform-dependent encoding or using the specified encoding if given.\n",
      "\n",
      "    buffering is an optional integer used to set the buffering policy.\n",
      "    Pass 0 to switch buffering off (only allowed in binary mode), 1 to select\n",
      "    line buffering (only usable in text mode), and an integer > 1 to indicate\n",
      "    the size of a fixed-size chunk buffer.  When no buffering argument is\n",
      "    given, the default buffering policy works as follows:\n",
      "\n",
      "    * Binary files are buffered in fixed-size chunks; the size of the buffer\n",
      "      is chosen using a heuristic trying to determine the underlying device's\n",
      "      \"block size\" and falling back on `io.DEFAULT_BUFFER_SIZE`.\n",
      "      On many systems, the buffer will typically be 4096 or 8192 bytes long.\n",
      "\n",
      "    * \"Interactive\" text files (files for which isatty() returns True)\n",
      "      use line buffering.  Other text files use the policy described above\n",
      "      for binary files.\n",
      "\n",
      "    encoding is the name of the encoding used to decode or encode the\n",
      "    file. This should only be used in text mode. The default encoding is\n",
      "    platform dependent, but any encoding supported by Python can be\n",
      "    passed.  See the codecs module for the list of supported encodings.\n",
      "\n",
      "    errors is an optional string that specifies how encoding errors are to\n",
      "    be handled---this argument should not be used in binary mode. Pass\n",
      "    'strict' to raise a ValueError exception if there is an encoding error\n",
      "    (the default of None has the same effect), or pass 'ignore' to ignore\n",
      "    errors. (Note that ignoring encoding errors can lead to data loss.)\n",
      "    See the documentation for codecs.register or run 'help(codecs.Codec)'\n",
      "    for a list of the permitted encoding error strings.\n",
      "\n",
      "    newline controls how universal newlines works (it only applies to text\n",
      "    mode). It can be None, '', '\\n', '\\r', and '\\r\\n'.  It works as\n",
      "    follows:\n",
      "\n",
      "    * On input, if newline is None, universal newlines mode is\n",
      "      enabled. Lines in the input can end in '\\n', '\\r', or '\\r\\n', and\n",
      "      these are translated into '\\n' before being returned to the\n",
      "      caller. If it is '', universal newline mode is enabled, but line\n",
      "      endings are returned to the caller untranslated. If it has any of\n",
      "      the other legal values, input lines are only terminated by the given\n",
      "      string, and the line ending is returned to the caller untranslated.\n",
      "\n",
      "    * On output, if newline is None, any '\\n' characters written are\n",
      "      translated to the system default line separator, os.linesep. If\n",
      "      newline is '' or '\\n', no translation takes place. If newline is any\n",
      "      of the other legal values, any '\\n' characters written are translated\n",
      "      to the given string.\n",
      "\n",
      "    If closefd is False, the underlying file descriptor will be kept open\n",
      "    when the file is closed. This does not work when a file name is given\n",
      "    and must be True in that case.\n",
      "\n",
      "    A custom opener can be used by passing a callable as *opener*. The\n",
      "    underlying file descriptor for the file object is then obtained by\n",
      "    calling *opener* with (*file*, *flags*). *opener* must return an open\n",
      "    file descriptor (passing os.open as *opener* results in functionality\n",
      "    similar to passing None).\n",
      "\n",
      "    open() returns a file object whose type depends on the mode, and\n",
      "    through which the standard file operations such as reading and writing\n",
      "    are performed. When open() is used to open a file in a text mode ('w',\n",
      "    'r', 'wt', 'rt', etc.), it returns a TextIOWrapper. When used to open\n",
      "    a file in a binary mode, the returned class varies: in read binary\n",
      "    mode, it returns a BufferedReader; in write binary and append binary\n",
      "    modes, it returns a BufferedWriter, and in read/write mode, it returns\n",
      "    a BufferedRandom.\n",
      "\n",
      "    It is also possible to use a string or bytearray as a file for both\n",
      "    reading and writing. For strings StringIO can be used like a file\n",
      "    opened in a text mode, and for bytes a BytesIO can be used like a file\n",
      "    opened in a binary mode.\n",
      "\n"
     ]
    }
   ],
   "source": [
    "help(open)"
   ]
  },
  {
   "cell_type": "markdown",
   "id": "12066f71-3ad4-454d-8482-b0f4c659f369",
   "metadata": {},
   "source": [
    "* No es necesario editar este atributo directamente.\n",
    "* Para asociar un docstring a un objeto basta con escribir el texto (entre triples comillas) al principio de los modulos, funciones o clases, antes del codigo ejecutable."
   ]
  },
  {
   "cell_type": "code",
   "execution_count": 18,
   "id": "545e588e-e64e-42f6-9446-101dbc5ca709",
   "metadata": {},
   "outputs": [
    {
     "name": "stdout",
     "output_type": "stream",
     "text": [
      "Help on function funcion_de_prueba in module __main__:\n",
      "\n",
      "funcion_de_prueba()\n",
      "    Esta es la documentación de la función de prueba\n",
      "\n"
     ]
    }
   ],
   "source": [
    "def funcion_de_prueba():\n",
    "    \"\"\"Esta es la documentación de la función de prueba\"\"\"\n",
    "    pass\n",
    "\n",
    "help(funcion_de_prueba)"
   ]
  },
  {
   "cell_type": "markdown",
   "id": "8893426e-51a1-4559-9f0d-bff3f152fa3c",
   "metadata": {},
   "source": [
    "* Accediendo al atributo *\\_\\_doc\\_\\_* sólo se obtiene el docstring."
   ]
  },
  {
   "cell_type": "code",
   "execution_count": 19,
   "id": "2743e60a-d531-478f-a1c4-c2ef8b7e57be",
   "metadata": {},
   "outputs": [
    {
     "name": "stdout",
     "output_type": "stream",
     "text": [
      "Esta es la documentación de la función de prueba\n"
     ]
    }
   ],
   "source": [
    "print(funcion_de_prueba.__doc__)"
   ]
  },
  {
   "cell_type": "markdown",
   "id": "7ae0885c-63db-4058-bddb-7dbf40f66576",
   "metadata": {},
   "source": [
    "Como se puede observar, *help* añade información adicional. Por ejemplo, para entidades más grandes, *help* muestra el docstring dividido en secciones."
   ]
  },
  {
   "cell_type": "code",
   "execution_count": 20,
   "id": "977dbe7a-8834-4ae9-84dc-901385af1599",
   "metadata": {},
   "outputs": [
    {
     "name": "stdout",
     "output_type": "stream",
     "text": [
      "Help on built-in module sys:\n",
      "\n",
      "NAME\n",
      "    sys\n",
      "\n",
      "MODULE REFERENCE\n",
      "    https://docs.python.org/3.13/library/sys.html\n",
      "\n",
      "    The following documentation is automatically generated from the Python\n",
      "    source files.  It may be incomplete, incorrect or include features that\n",
      "    are considered implementation detail and may vary between Python\n",
      "    implementations.  When in doubt, consult the module reference at the\n",
      "    location listed above.\n",
      "\n",
      "DESCRIPTION\n",
      "    This module provides access to some objects used or maintained by the\n",
      "    interpreter and to functions that interact strongly with the interpreter.\n",
      "\n",
      "    Dynamic objects:\n",
      "\n",
      "    argv -- command line arguments; argv[0] is the script pathname if known\n",
      "    path -- module search path; path[0] is the script directory, else ''\n",
      "    modules -- dictionary of loaded modules\n",
      "\n",
      "    displayhook -- called to show results in an interactive session\n",
      "    excepthook -- called to handle any uncaught exception other than SystemExit\n",
      "      To customize printing in an interactive session or to install a custom\n",
      "      top-level exception handler, assign other functions to replace these.\n",
      "\n",
      "    stdin -- standard input file object; used by input()\n",
      "    stdout -- standard output file object; used by print()\n",
      "    stderr -- standard error object; used for error messages\n",
      "      By assigning other file objects (or objects that behave like files)\n",
      "      to these, it is possible to redirect all of the interpreter's I/O.\n",
      "\n",
      "    last_exc - the last uncaught exception\n",
      "      Only available in an interactive session after a\n",
      "      traceback has been printed.\n",
      "    last_type -- type of last uncaught exception\n",
      "    last_value -- value of last uncaught exception\n",
      "    last_traceback -- traceback of last uncaught exception\n",
      "      These three are the (deprecated) legacy representation of last_exc.\n",
      "\n",
      "    Static objects:\n",
      "\n",
      "    builtin_module_names -- tuple of module names built into this interpreter\n",
      "    copyright -- copyright notice pertaining to this interpreter\n",
      "    exec_prefix -- prefix used to find the machine-specific Python library\n",
      "    executable -- absolute path of the executable binary of the Python interpreter\n",
      "    float_info -- a named tuple with information about the float implementation.\n",
      "    float_repr_style -- string indicating the style of repr() output for floats\n",
      "    hash_info -- a named tuple with information about the hash algorithm.\n",
      "    hexversion -- version information encoded as a single integer\n",
      "    implementation -- Python implementation information.\n",
      "    int_info -- a named tuple with information about the int implementation.\n",
      "    maxsize -- the largest supported length of containers.\n",
      "    maxunicode -- the value of the largest Unicode code point\n",
      "    platform -- platform identifier\n",
      "    prefix -- prefix used to find the Python library\n",
      "    thread_info -- a named tuple with information about the thread implementation.\n",
      "    version -- the version of this interpreter as a string\n",
      "    version_info -- version information as a named tuple\n",
      "    dllhandle -- [Windows only] integer handle of the Python DLL\n",
      "    winver -- [Windows only] version number of the Python DLL\n",
      "    _enablelegacywindowsfsencoding -- [Windows only]\n",
      "    __stdin__ -- the original stdin; don't touch!\n",
      "    __stdout__ -- the original stdout; don't touch!\n",
      "    __stderr__ -- the original stderr; don't touch!\n",
      "    __displayhook__ -- the original displayhook; don't touch!\n",
      "    __excepthook__ -- the original excepthook; don't touch!\n",
      "\n",
      "    Functions:\n",
      "\n",
      "    displayhook() -- print an object to the screen, and save it in builtins._\n",
      "    excepthook() -- print an exception and its traceback to sys.stderr\n",
      "    exception() -- return the current thread's active exception\n",
      "    exc_info() -- return information about the current thread's active exception\n",
      "    exit() -- exit the interpreter by raising SystemExit\n",
      "    getdlopenflags() -- returns flags to be used for dlopen() calls\n",
      "    getprofile() -- get the global profiling function\n",
      "    getrefcount() -- return the reference count for an object (plus one :-)\n",
      "    getrecursionlimit() -- return the max recursion depth for the interpreter\n",
      "    getsizeof() -- return the size of an object in bytes\n",
      "    gettrace() -- get the global debug tracing function\n",
      "    setdlopenflags() -- set the flags to be used for dlopen() calls\n",
      "    setprofile() -- set the global profiling function\n",
      "    setrecursionlimit() -- set the max recursion depth for the interpreter\n",
      "    settrace() -- set the global debug tracing function\n",
      "\n",
      "SUBMODULES\n",
      "    monitoring\n",
      "\n",
      "FUNCTIONS\n",
      "    __breakpointhook__ = breakpointhook(*args, **kwargs)\n",
      "        This hook function is called by built-in breakpoint().\n",
      "\n",
      "    __displayhook__ = displayhook(object, /)\n",
      "        Print an object to sys.stdout and also save it in builtins._\n",
      "\n",
      "    __excepthook__ = excepthook(exctype, value, traceback, /)\n",
      "        Handle an exception by displaying it with a traceback on sys.stderr.\n",
      "\n",
      "    __unraisablehook__ = unraisablehook(unraisable, /)\n",
      "        Handle an unraisable exception.\n",
      "\n",
      "        The unraisable argument has the following attributes:\n",
      "\n",
      "        * exc_type: Exception type.\n",
      "        * exc_value: Exception value, can be None.\n",
      "        * exc_traceback: Exception traceback, can be None.\n",
      "        * err_msg: Error message, can be None.\n",
      "        * object: Object causing the exception, can be None.\n",
      "\n",
      "    activate_stack_trampoline(backend, /)\n",
      "        Activate stack profiler trampoline *backend*.\n",
      "\n",
      "    addaudithook(hook)\n",
      "        Adds a new audit hook callback.\n",
      "\n",
      "    audit(event, /, *args)\n",
      "        Passes the event to any audit hooks that are attached.\n",
      "\n",
      "    call_tracing(func, args, /)\n",
      "        Call func(*args), while tracing is enabled.\n",
      "\n",
      "        The tracing state is saved, and restored afterwards.  This is intended\n",
      "        to be called from a debugger from a checkpoint, to recursively debug\n",
      "        some other code.\n",
      "\n",
      "    deactivate_stack_trampoline()\n",
      "        Deactivate the current stack profiler trampoline backend.\n",
      "\n",
      "        If no stack profiler is activated, this function has no effect.\n",
      "\n",
      "    exc_info()\n",
      "        Return current exception information: (type, value, traceback).\n",
      "\n",
      "        Return information about the most recent exception caught by an except\n",
      "        clause in the current stack frame or in an older stack frame.\n",
      "\n",
      "    exception()\n",
      "        Return the current exception.\n",
      "\n",
      "        Return the most recent exception caught by an except clause\n",
      "        in the current stack frame or in an older stack frame, or None\n",
      "        if no such exception exists.\n",
      "\n",
      "    exit(status=None, /)\n",
      "        Exit the interpreter by raising SystemExit(status).\n",
      "\n",
      "        If the status is omitted or None, it defaults to zero (i.e., success).\n",
      "        If the status is an integer, it will be used as the system exit status.\n",
      "        If it is another kind of object, it will be printed and the system\n",
      "        exit status will be one (i.e., failure).\n",
      "\n",
      "    get_asyncgen_hooks()\n",
      "        Return the installed asynchronous generators hooks.\n",
      "\n",
      "        This returns a namedtuple of the form (firstiter, finalizer).\n",
      "\n",
      "    get_coroutine_origin_tracking_depth()\n",
      "        Check status of origin tracking for coroutine objects in this thread.\n",
      "\n",
      "    get_int_max_str_digits()\n",
      "        Return the maximum string digits limit for non-binary int<->str conversions.\n",
      "\n",
      "    getallocatedblocks()\n",
      "        Return the number of memory blocks currently allocated.\n",
      "\n",
      "    getdefaultencoding()\n",
      "        Return the current default encoding used by the Unicode implementation.\n",
      "\n",
      "    getfilesystemencodeerrors()\n",
      "        Return the error mode used Unicode to OS filename conversion.\n",
      "\n",
      "    getfilesystemencoding()\n",
      "        Return the encoding used to convert Unicode filenames to OS filenames.\n",
      "\n",
      "    getprofile()\n",
      "        Return the profiling function set with sys.setprofile.\n",
      "\n",
      "        See the profiler chapter in the library manual.\n",
      "\n",
      "    getrecursionlimit()\n",
      "        Return the current value of the recursion limit.\n",
      "\n",
      "        The recursion limit is the maximum depth of the Python interpreter\n",
      "        stack.  This limit prevents infinite recursion from causing an overflow\n",
      "        of the C stack and crashing Python.\n",
      "\n",
      "    getrefcount(object, /)\n",
      "        Return the reference count of object.\n",
      "\n",
      "        The count returned is generally one higher than you might expect,\n",
      "        because it includes the (temporary) reference as an argument to\n",
      "        getrefcount().\n",
      "\n",
      "    getsizeof(...)\n",
      "        getsizeof(object [, default]) -> int\n",
      "\n",
      "        Return the size of object in bytes.\n",
      "\n",
      "    getswitchinterval()\n",
      "        Return the current thread switch interval; see sys.setswitchinterval().\n",
      "\n",
      "    gettrace()\n",
      "        Return the global debug tracing function set with sys.settrace.\n",
      "\n",
      "        See the debugger chapter in the library manual.\n",
      "\n",
      "    getunicodeinternedsize(*, _only_immortal=False)\n",
      "        Return the number of elements of the unicode interned dictionary\n",
      "\n",
      "    getwindowsversion()\n",
      "        Return info about the running version of Windows as a named tuple.\n",
      "\n",
      "        The members are named: major, minor, build, platform, service_pack,\n",
      "        service_pack_major, service_pack_minor, suite_mask, product_type and\n",
      "        platform_version. For backward compatibility, only the first 5 items\n",
      "        are available by indexing. All elements are numbers, except\n",
      "        service_pack and platform_type which are strings, and platform_version\n",
      "        which is a 3-tuple. Platform is always 2. Product_type may be 1 for a\n",
      "        workstation, 2 for a domain controller, 3 for a server.\n",
      "        Platform_version is a 3-tuple containing a version number that is\n",
      "        intended for identifying the OS rather than feature detection.\n",
      "\n",
      "    intern(string, /)\n",
      "        ``Intern'' the given string.\n",
      "\n",
      "        This enters the string in the (global) table of interned strings whose\n",
      "        purpose is to speed up dictionary lookups. Return the string itself or\n",
      "        the previously interned string object with the same value.\n",
      "\n",
      "    is_finalizing()\n",
      "        Return True if Python is exiting.\n",
      "\n",
      "    is_stack_trampoline_active()\n",
      "        Return *True* if a stack profiler trampoline is active.\n",
      "\n",
      "    set_asyncgen_hooks(...)\n",
      "        set_asyncgen_hooks([firstiter] [, finalizer])\n",
      "\n",
      "        Set a finalizer for async generators objects.\n",
      "\n",
      "    set_coroutine_origin_tracking_depth(depth)\n",
      "        Enable or disable origin tracking for coroutine objects in this thread.\n",
      "\n",
      "        Coroutine objects will track 'depth' frames of traceback information\n",
      "        about where they came from, available in their cr_origin attribute.\n",
      "\n",
      "        Set a depth of 0 to disable.\n",
      "\n",
      "    set_int_max_str_digits(maxdigits)\n",
      "        Set the maximum string digits limit for non-binary int<->str conversions.\n",
      "\n",
      "    setprofile(function, /)\n",
      "        Set the profiling function.\n",
      "\n",
      "        It will be called on each function call and return.  See the profiler\n",
      "        chapter in the library manual.\n",
      "\n",
      "    setrecursionlimit(limit, /)\n",
      "        Set the maximum depth of the Python interpreter stack to n.\n",
      "\n",
      "        This limit prevents infinite recursion from causing an overflow of the C\n",
      "        stack and crashing Python.  The highest possible limit is platform-\n",
      "        dependent.\n",
      "\n",
      "    setswitchinterval(interval, /)\n",
      "        Set the ideal thread switching delay inside the Python interpreter.\n",
      "\n",
      "        The actual frequency of switching threads can be lower if the\n",
      "        interpreter executes long sequences of uninterruptible code\n",
      "        (this is implementation-specific and workload-dependent).\n",
      "\n",
      "        The parameter must represent the desired switching delay in seconds\n",
      "        A typical value is 0.005 (5 milliseconds).\n",
      "\n",
      "    settrace(function, /)\n",
      "        Set the global debug tracing function.\n",
      "\n",
      "        It will be called on each function call.  See the debugger chapter\n",
      "        in the library manual.\n",
      "\n",
      "    unraisablehook(unraisable, /)\n",
      "        Handle an unraisable exception.\n",
      "\n",
      "        The unraisable argument has the following attributes:\n",
      "\n",
      "        * exc_type: Exception type.\n",
      "        * exc_value: Exception value, can be None.\n",
      "        * exc_traceback: Exception traceback, can be None.\n",
      "        * err_msg: Error message, can be None.\n",
      "        * object: Object causing the exception, can be None.\n",
      "\n",
      "DATA\n",
      "    __stderr__ = <_io.TextIOWrapper name='<stderr>' mode='w' encoding='cp1...\n",
      "    __stdin__ = <_io.TextIOWrapper name='<stdin>' mode='r' encoding='cp125...\n",
      "    __stdout__ = <_io.TextIOWrapper name='<stdout>' mode='w' encoding='cp1...\n",
      "    __warningregistry__ = {'version': 1}\n",
      "    api_version = 1013\n",
      "    argv = [r'C:\\Users\\mcdav\\anaconda3\\envs\\MachineLearning1\\Lib\\site-pack...\n",
      "    base_exec_prefix = r'C:\\Users\\mcdav\\anaconda3\\envs\\MachineLearning1'\n",
      "    base_prefix = r'C:\\Users\\mcdav\\anaconda3\\envs\\MachineLearning1'\n",
      "    builtin_module_names = ('_abc', '_ast', '_bisect', '_blake2', '_codecs...\n",
      "    byteorder = 'little'\n",
      "    copyright = 'Copyright (c) 2001-2024 Python Software Foundati...ematis...\n",
      "    displayhook = <ipykernel.displayhook.ZMQShellDisplayHook object>\n",
      "    dllhandle = 140710826606592\n",
      "    dont_write_bytecode = False\n",
      "    exec_prefix = r'C:\\Users\\mcdav\\anaconda3\\envs\\MachineLearning1'\n",
      "    executable = r'C:\\Users\\mcdav\\anaconda3\\envs\\MachineLearning1\\python.e...\n",
      "    flags = sys.flags(debug=0, inspect=0, interactive=0, opt...ding=0, saf...\n",
      "    float_info = sys.float_info(max=1.7976931348623157e+308, max_...epsilo...\n",
      "    float_repr_style = 'short'\n",
      "    hash_info = sys.hash_info(width=64, modulus=2305843009213693...iphash1...\n",
      "    hexversion = 51185136\n",
      "    implementation = namespace(name='cpython', cache_tag='cpython-313...as...\n",
      "    int_info = sys.int_info(bits_per_digit=30, sizeof_digit=4, ..._str_dig...\n",
      "    last_exc = UnsupportedOperation('not readable')\n",
      "    last_value = UnsupportedOperation('not readable')\n",
      "    maxsize = 9223372036854775807\n",
      "    maxunicode = 1114111\n",
      "    meta_path = [<_distutils_hack.DistutilsMetaFinder object>, <class '_fr...\n",
      "    modules = {'IPython': <module 'IPython' from 'C:\\\\Users\\\\mcdav\\\\anacon...\n",
      "    orig_argv = [r'C:/Users/mcdav/anaconda3/envs/MachineLearning1\\python.e...\n",
      "    path = [r'C:\\Users\\mcdav\\anaconda3\\envs\\MachineLearning1\\python313.zip...\n",
      "    path_hooks = [<class 'zipimport.zipimporter'>, <function FileFinder.pa...\n",
      "    path_importer_cache = {r'C:\\Users\\mcdav\\OneDrive - itq.edu.ec\\Cuarto S...\n",
      "    platform = 'win32'\n",
      "    platlibdir = 'DLLs'\n",
      "    prefix = r'C:\\Users\\mcdav\\anaconda3\\envs\\MachineLearning1'\n",
      "    ps1 = 'In : '\n",
      "    ps2 = '...: '\n",
      "    ps3 = 'Out: '\n",
      "    pycache_prefix = None\n",
      "    stderr = <ipykernel.iostream.OutStream object>\n",
      "    stdin = <_io.TextIOWrapper name='<stdin>' mode='r' encoding='cp1252'>\n",
      "    stdlib_module_names = frozenset({'__future__', '_abc', '_aix_support',...\n",
      "    stdout = <ipykernel.iostream.OutStream object>\n",
      "    thread_info = sys.thread_info(name='nt', lock=None, version=None)\n",
      "    version = '3.13.5 | packaged by Anaconda, Inc. | (main, Jun 12 2025, 1...\n",
      "    version_info = sys.version_info(major=3, minor=13, micro=5, releaselev...\n",
      "    warnoptions = []\n",
      "    winver = '3.13'\n",
      "\n",
      "FILE\n",
      "    (built-in)\n",
      "\n",
      "\n"
     ]
    }
   ],
   "source": [
    "import sys\n",
    "help(sys)"
   ]
  },
  {
   "cell_type": "markdown",
   "id": "0eb1d4cd-49c4-47f0-ad77-165e1be8b928",
   "metadata": {},
   "source": [
    "Los docstrings que ocupan más de una línea suelen tener estas partes:\n",
    "\n",
    "* Resumen en la primera línea.\n",
    "* Línea en blanco.\n",
    "* Descripción detallada.\n",
    "* Otra línea en blanco antes del código."
   ]
  },
  {
   "cell_type": "code",
   "execution_count": 21,
   "id": "c5fa0c88-4e07-49ba-972a-8789f9733e81",
   "metadata": {},
   "outputs": [
    {
     "name": "stdout",
     "output_type": "stream",
     "text": [
      "Help on function funcion_de_prueba2 in module __main__:\n",
      "\n",
      "funcion_de_prueba2()\n",
      "    Esta es la línea para el resumen.\n",
      "\n",
      "    Este es el párrafo donde se puede escribir una descripción más\n",
      "    detallada de la función. Observa que el resumen y la descripción\n",
      "    detallada van separados por una línea en blanco. También hay\n",
      "    otra línea en blanco antes de empezar el código.\n",
      "\n"
     ]
    }
   ],
   "source": [
    "def funcion_de_prueba2():\n",
    "    \"\"\"Esta es la línea para el resumen.\n",
    "    \n",
    "    Este es el párrafo donde se puede escribir una descripción más\n",
    "    detallada de la función. Observa que el resumen y la descripción\n",
    "    detallada van separados por una línea en blanco. También hay\n",
    "    otra línea en blanco antes de empezar el código.\n",
    "    \"\"\"\n",
    "    \n",
    "    pass\n",
    "\n",
    "help(funcion_de_prueba2)"
   ]
  },
  {
   "cell_type": "markdown",
   "id": "5f4c2916-0205-4aab-858d-bd5e3dccb33f",
   "metadata": {},
   "source": [
    "Algunos comentarios adicionales:\n",
    "\n",
    "* Comentarios con '#' suelen asociarse a expresiones sencillas, instrucciones individuales o pequeños bloques de código.\n",
    "* Los docstrings son más apropiados para construcciones de más alto nivel: funciones, clases y módulos."
   ]
  },
  {
   "cell_type": "markdown",
   "id": "3fdb0467-b6d2-4222-9b4b-125fa58880c3",
   "metadata": {},
   "source": [
    "## Sphinx"
   ]
  },
  {
   "cell_type": "markdown",
   "id": "6312137c-122d-4272-868b-9756d2b142c0",
   "metadata": {},
   "source": [
    "* Herramienta de documentación.\n",
    "* Especialmente útil para sistemas grandes.\n",
    "* Da soporte a una gran variedad de formatos de salida: HTML, LaTeX, ePub, ..."
   ]
  },
  {
   "cell_type": "markdown",
   "id": "2fa123d2-4093-4cb1-89fb-790f93f6890d",
   "metadata": {},
   "source": [
    "Web de [Sphinx](https://www.sphinx-doc.org/)."
   ]
  },
  {
   "cell_type": "markdown",
   "id": "3d65b30a-3c07-4394-9f9c-5995756ae97c",
   "metadata": {},
   "source": [
    "[Proyectos](https://www.sphinx-doc.org/en/master/examples.html) que usan Sphinx."
   ]
  },
  {
   "cell_type": "markdown",
   "id": "b955fefb-5d6b-41cd-9784-99667997de0b",
   "metadata": {},
   "source": [
    "## Estilo"
   ]
  },
  {
   "cell_type": "markdown",
   "id": "6e557bcd-62a4-472a-b731-ae4663d0c15e",
   "metadata": {},
   "source": [
    "* Es importante que los docstrings sean consistentes.\n",
    "* El equipo de desarrollo debe acordar un formato y seguirlo rigurosamente."
   ]
  },
  {
   "cell_type": "markdown",
   "id": "5c5d03ca-8f3e-42b4-b36f-0bed2caa911e",
   "metadata": {},
   "source": [
    "#### Google Python Style Guide"
   ]
  },
  {
   "cell_type": "markdown",
   "id": "58c5a205-3e1d-44f2-a3af-9107060f7624",
   "metadata": {},
   "source": [
    "Google define la siguiente [guía de estilo](https://github.com/google/styleguide/blob/gh-pages/pyguide.md#38-comments-and-docstrings)."
   ]
  },
  {
   "cell_type": "markdown",
   "id": "9f393ac5-8fd6-4603-8dc0-a7fd2c1a1792",
   "metadata": {},
   "source": [
    "Contiene reglas para los docstrings de:\n",
    "\n",
    "* Módulos.\n",
    "* Métodos y funciones.\n",
    "* Clases."
   ]
  },
  {
   "cell_type": "markdown",
   "id": "d9e230da-6f4a-4f20-b517-5161c83a5174",
   "metadata": {},
   "source": [
    "## Ejercicios"
   ]
  },
  {
   "cell_type": "markdown",
   "id": "1b6df8c5-c421-4d2b-b794-6a2515995efc",
   "metadata": {},
   "source": [
    "1. Escribe una función que reciba una ruta de un fichero de texto y una cadena de caracteres a buscar y determine si la cadena aparece en el fichero.\n",
    "\n",
    "2. Escribe una función que reciba una lista, una ruta destino y un número *n*. La función debe crear un fichero en la ruta especificada. El contenido del fichero serán los primeros *n* elementos de la lista. La función debe controlar de manera apropiada los posibles valores de *n* que estén fuera de rango.\n",
    "\n",
    "3. Escribe una función que reciba una ruta de un fichero de texto devuelva un diccionario con la frecuencia de aparición de cada palabra. Ejemplo: un fichero que contenga la frase 'es mejor que venga que que no venga' devolverá el siguiente diccionario: {'es' : 1, 'mejor' : 1, 'que' : 3, 'venga' : 2, 'no' : 1}. Para dividir un string en palabras puedes hacer uso del método *split*."
   ]
  },
  {
   "cell_type": "code",
   "execution_count": 33,
   "id": "833e6408-5462-4d99-9bac-b6098abdf039",
   "metadata": {},
   "outputs": [
    {
     "name": "stdout",
     "output_type": "stream",
     "text": [
      "res\\fichero_ej1.txt\n",
      "No se encontró el texto en el archivo.\n",
      "Se encontró el texto 'Hola' en el archivo.\n",
      "Se encontró el texto 'Hola Mundo' en el archivo.\n"
     ]
    }
   ],
   "source": [
    "# Escribe una función que reciba una ruta de un fichero de texto y una cadena de caracteres a buscar\n",
    "# y determine si la cadena aparece en el fichero.\n",
    "def buscar_en_archivo(texto, ruta_archivo):\n",
    "    with open(ruta_archivo) as archivo:\n",
    "        for linea in archivo:\n",
    "            if texto in linea:\n",
    "                print(f\"Se encontró el texto '{texto}' en el archivo.\")\n",
    "                bandera = True\n",
    "                break\n",
    "            else:\n",
    "                bandera = False\n",
    "        if bandera is False:\n",
    "            print(\"No se encontró el texto en el archivo.\")\n",
    "    archivo.close()\n",
    "\n",
    "import os\n",
    "ruta = os.path.join(\"res\", \"fichero_ej1.txt\")\n",
    "print(ruta)\n",
    "buscar_en_archivo(\"Holas\", ruta)\n",
    "buscar_en_archivo(\"Hola\", ruta)\n",
    "buscar_en_archivo(\"Hola Mundo\", ruta)\n"
   ]
  },
  {
   "cell_type": "code",
   "execution_count": 40,
   "id": "644d0ff0-c07d-4536-8fb3-8356f11f4a2f",
   "metadata": {},
   "outputs": [
    {
     "name": "stdout",
     "output_type": "stream",
     "text": [
      "res\\fichero_ej2.txt\n",
      "['Prueba\\n', 'de\\n', 'creación\\n', 'de\\n']\n"
     ]
    }
   ],
   "source": [
    "# Escribe una función que reciba una lista, una ruta destino y un número n. La función debe crear un\n",
    "# fichero en la ruta especificada. El contenido del fichero serán los primeros n elementos de la lista.\n",
    "# La función debe controlar de manera apropiada los posibles valores de n que estén fuera de rango.\n",
    "def crear_archivo(list_test, path_file, num):\n",
    "    new_file = open(path_file, 'w')\n",
    "    size_list = len(list_test)\n",
    "    if num > size_list:\n",
    "        print(\"El número de elementos a tomar excede a los enviados en la lista.\")\n",
    "        return\n",
    "    for i in range(num + 1):\n",
    "        new_file.write(list_test[i] + '\\n')\n",
    "    new_file.close()\n",
    "\n",
    "import os\n",
    "ruta = os.path.join(\"res\", \"fichero_ej2.txt\")\n",
    "print(ruta)\n",
    "\n",
    "crear_archivo([\"Prueba\", \"de\" , \"creación\", \"de\", \"archivo\"], ruta, 3)\n",
    "\n",
    "archivo = open(ruta)\n",
    "lineas = archivo.readlines()\n",
    "archivo.close()\n",
    "print(lineas)\n"
   ]
  },
  {
   "cell_type": "code",
   "execution_count": 44,
   "id": "39f8880e-7220-4403-8e4f-d21ee88afdf0",
   "metadata": {},
   "outputs": [
    {
     "name": "stdout",
     "output_type": "stream",
     "text": [
      "res\\fichero_ej3.txt\n",
      "El diccionario generado es: {'es': 1, 'mejor': 1, 'que': 3, 'venga': 2, 'no': 1}\n"
     ]
    }
   ],
   "source": [
    "# Escribe una función que reciba una ruta de un fichero de texto devuelva un diccionario con la frecuencia\n",
    "# de aparición de cada palabra. Ejemplo: un fichero que contenga la frase 'es mejor que venga que que no venga'\n",
    "# devolverá el siguiente diccionario: {'es' : 1, 'mejor' : 1, 'que' : 3, 'venga' : 2, 'no' : 1}.\n",
    "# Para dividir un string en palabras puedes hacer uso del método split.\n",
    "def archivo_diccionario(ruta_archivo):\n",
    "    diccionario = {}\n",
    "    with open(ruta_archivo, 'r') as archivo:\n",
    "        contenido = archivo.read()\n",
    "        palabras = contenido.split()\n",
    "        \n",
    "        for palabra in palabras:\n",
    "            if palabra in diccionario:\n",
    "                diccionario[palabra] += 1\n",
    "            else:\n",
    "                diccionario[palabra] = 1\n",
    "    archivo.close()\n",
    "    return diccionario\n",
    "\n",
    "import os\n",
    "ruta = os.path.join(\"res\", \"fichero_ej3.txt\")\n",
    "print(ruta)\n",
    "salida = archivo_diccionario(ruta)\n",
    "print(f\"El diccionario generado es: {salida}\")\n"
   ]
  },
  {
   "cell_type": "markdown",
   "id": "74593bd4-b738-4ac9-bbde-2fa72f1385f5",
   "metadata": {},
   "source": [
    "# Conclusiones\n",
    "\n",
    "1. El uso de archivos es sencillo, sin embargo, para usar en la herramienta JupiterLab es necesario codificar los archivos en UTF8, caso contrario no se podrán abrir."
   ]
  },
  {
   "cell_type": "markdown",
   "id": "f0a508be-8111-4338-beaa-40b5a69fbf69",
   "metadata": {},
   "source": [
    "# Referencias\n",
    "\n",
    "1. https://labex.io/es/tutorials/python-how-to-handle-python-file-text-encoding-421209\n"
   ]
  },
  {
   "cell_type": "code",
   "execution_count": null,
   "id": "6608b279-9cd1-47b4-ae89-0936d39a21fc",
   "metadata": {},
   "outputs": [],
   "source": []
  }
 ],
 "metadata": {
  "kernelspec": {
   "display_name": "Python 3 (ipykernel)",
   "language": "python",
   "name": "python3"
  },
  "language_info": {
   "codemirror_mode": {
    "name": "ipython",
    "version": 3
   },
   "file_extension": ".py",
   "mimetype": "text/x-python",
   "name": "python",
   "nbconvert_exporter": "python",
   "pygments_lexer": "ipython3",
   "version": "3.13.5"
  }
 },
 "nbformat": 4,
 "nbformat_minor": 5
}

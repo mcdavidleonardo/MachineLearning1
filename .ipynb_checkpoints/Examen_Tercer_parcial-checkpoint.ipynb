{
 "cells": [
  {
   "cell_type": "markdown",
   "id": "6b91cdfc-8110-4e09-86e1-e59633598d4d",
   "metadata": {},
   "source": [
    "# Examen del Tercer Parcial \n",
    "## Regresión lineal\n",
    "Dado el archivo **movie_genre_classification_final.csv** se encuentra un base de datos con información de **50000 películas** que incluyen variables como: <br>\n",
    " * Título,\n",
    " * Año de estreno,\n",
    " * Duración,\n",
    " * Puntuación promedio,\n",
    " * Número de votos,\n",
    " * Presupuesto,\n",
    " * Ingresos en taquilla,\n",
    " * Número de premios obtenidos,\n",
    " * Entre otras caracterisiticas.\n",
    "Como parate del análisis de predicción, se desea estudiar la relación entre el:<br>\n",
    "* Presupuesto de una película\n",
    "y sus caracteristicas cuantitativas, para estimar la **recaudación en taquilla (BoxOffice_USD)**. Para ello, se plantea entrenar un modelo de regresión lineal.<br>\n",
    "\n",
    "# Objetivo \n",
    "Predecir el valor de la variable **BoxOffice_USD** a partir de variables numéricas independientes disponibles en el dataset, tales como:<br>\n",
    "* Budget_USD (Presupuesto en dólares)\n",
    "* Duration (Duración en minutos)\n",
    "* Ratting (Calificiación Promedio\"\n",
    "* Votes (Número de votos)\n",
    "* Num_Awards (Número de premios obtenidos)\n",
    "* Critic_reviews (Números de reseñas de criticos)\n",
    "\n",
    "El dataset fue extraido desder <a href=\"https://www.kaggle.com/datasets/therohithanand/movie-genre-classification\">DataSet<a> <br>\n",
    "\n",
    "## Entrega esperada\n",
    "* Código bien estructurado y comentado\n",
    "* Gráficos claros en los pasos 2, 4 y 5.\n",
    "* Breve análisis escrito de lso los resultados obtenidos.\n",
    "\n"
   ]
  },
  {
   "cell_type": "code",
   "execution_count": null,
   "id": "5ef16dd6-76ce-404a-a54a-57d30d60273d",
   "metadata": {},
   "outputs": [],
   "source": [
    "# Lectura de datos"
   ]
  },
  {
   "cell_type": "code",
   "execution_count": null,
   "id": "4442dcf5-513d-4db2-9908-8fc558361db4",
   "metadata": {},
   "outputs": [],
   "source": [
    "# Visualización del conjunto de datos\n",
    "#este código es de chat gpt"
   ]
  },
  {
   "cell_type": "code",
   "execution_count": null,
   "id": "7a724fed-fc4e-4b2f-8101-746def1edea4",
   "metadata": {},
   "outputs": [],
   "source": [
    "# Modificación del conjutno de datos"
   ]
  },
  {
   "cell_type": "code",
   "execution_count": null,
   "id": "4bed4edf-46b6-4ce1-b40d-4065cdeded0c",
   "metadata": {},
   "outputs": [],
   "source": [
    "#Construcción del modelo de regresión lineal"
   ]
  },
  {
   "cell_type": "code",
   "execution_count": null,
   "id": "6f02831a-b25c-48d8-b820-da7ecd297837",
   "metadata": {},
   "outputs": [],
   "source": [
    "# Predicción de nuevos ejemplos"
   ]
  }
 ],
 "metadata": {
  "kernelspec": {
   "display_name": "Python 3 (ipykernel)",
   "language": "python",
   "name": "python3"
  },
  "language_info": {
   "codemirror_mode": {
    "name": "ipython",
    "version": 3
   },
   "file_extension": ".py",
   "mimetype": "text/x-python",
   "name": "python",
   "nbconvert_exporter": "python",
   "pygments_lexer": "ipython3",
   "version": "3.13.5"
  }
 },
 "nbformat": 4,
 "nbformat_minor": 5
}

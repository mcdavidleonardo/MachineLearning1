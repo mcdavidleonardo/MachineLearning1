{
 "cells": [
  {
   "cell_type": "markdown",
   "id": "0ad336f7-7c25-460b-aeda-1bb17dc49cb8",
   "metadata": {},
   "source": [
    "**Nombre:** David L. Mejía<br>\n",
    "**Fecha:** 02/07/2025<br>\n",
    "**Git:** https://github.com/mcdavidleonardo/MachineLearning1/blob/main/ExamenParcial1.ipynb<br>"
   ]
  },
  {
   "cell_type": "code",
   "execution_count": 15,
   "id": "c0328880-1aec-425a-a1fc-360940f04e2b",
   "metadata": {},
   "outputs": [
    {
     "name": "stdin",
     "output_type": "stream",
     "text": [
      "Ingrese el nombre del estudiante (FIN para terminar):  David\n",
      "Ingrese 4 notas del estudiante separado por comas. Ejemplo: 5,6.9,9.8 3,4,5,6\n",
      "Ingrese el nombre del estudiante (FIN para terminar):  Diana\n",
      "Ingrese 4 notas del estudiante separado por comas. Ejemplo: 5,6.9,9.8 7,8,9,10\n",
      "Ingrese el nombre del estudiante (FIN para terminar):  Leon\n",
      "Ingrese 4 notas del estudiante separado por comas. Ejemplo: 5,6.9,9.8 9,9,9,10\n",
      "Ingrese el nombre del estudiante (FIN para terminar):  FIN\n"
     ]
    },
    {
     "name": "stdout",
     "output_type": "stream",
     "text": [
      "Estudiante con mejor promedio: Leon\n",
      "Listado de Estudiantes: ['David', 'Diana', 'Leon']\n",
      "Listado de Estudiantes/Notas: {'David': ['3', '4', '5', '6'], 'Diana': ['7', '8', '9', '10'], 'Leon': ['9', '9', '9', '10']}\n",
      "Listado de Estudiantes/Promedios: {'David': 4.5, 'Diana': 8.5, 'Leon': 9.25}\n",
      "Listado de Estudiantes/Clasificación: {'David': 'Reprobado', 'Diana': 'Aprobado', 'Leon': 'Excelente'}\n"
     ]
    }
   ],
   "source": [
    "palabra_fin = 'FIN'\n",
    "total_notas = 4\n",
    "nombre_estudiante = ''\n",
    "estudiantes = []\n",
    "estudiante_notas = {}\n",
    "estudiante_promedio = {}\n",
    "estudiante_clasificacion = {}\n",
    "\n",
    "# Sección para ingreso del nombre del estudiante\n",
    "while nombre_estudiante != palabra_fin:\n",
    "    nombre_estudiante = input(\"Ingrese el nombre del estudiante (FIN para terminar): \")\n",
    "    # Si la palabra es diferente de FIN se añade estudiante a la lista\n",
    "    if nombre_estudiante != palabra_fin:\n",
    "        estudiantes.append(nombre_estudiante)\n",
    "        # Sección para ingreso de notas\n",
    "        while True:\n",
    "            entrada = input(f\"Ingrese {total_notas} notas del estudiante separado por comas. Ejemplo: 5,6.9,9.8\")\n",
    "            notas = []\n",
    "            sumatoria = 0.0\n",
    "            clasificacion = ''\n",
    "            try:\n",
    "                notas_estudiante = entrada.split(',')\n",
    "                # Control que sean 4 notas\n",
    "                if len(notas_estudiante) != total_notas:\n",
    "                    raise ValueError(f\"Debe ingresar {total_notas} notas. Si no tiene nota colocar 0.\")\n",
    "\n",
    "                # Validacion de rango de las notas\n",
    "                for nota in notas_estudiante:\n",
    "                    if float(nota) < 0.0 or float(nota) > 10.0:\n",
    "                        raise ValueError(f\"La nota debe estar en rango de 0 a 10\")\n",
    "                \n",
    "                # Se suma todas las notas\n",
    "                for nota in notas_estudiante:\n",
    "                    notas.append(nota)\n",
    "                    sumatoria = sumatoria + float(nota)\n",
    "\n",
    "                # Promedio del estudiante\n",
    "                promedio = sumatoria / len(notas_estudiante)\n",
    "\n",
    "                # Se categoriza al estudiante\n",
    "                if promedio >= 9:\n",
    "                    clasificacion = 'Excelente'\n",
    "                elif promedio >= 6 and promedio < 9:\n",
    "                    clasificacion = 'Aprobado'\n",
    "                elif promedio < 6:\n",
    "                    clasificacion = 'Reprobado'\n",
    "                \n",
    "                estudiante_promedio[nombre_estudiante] = promedio\n",
    "                estudiante_notas[nombre_estudiante] = notas\n",
    "                estudiante_clasificacion[nombre_estudiante] = clasificacion\n",
    "                \n",
    "                break\n",
    "\n",
    "            except ValueError as e:\n",
    "                print(\"Error:\", e)\n",
    "            except TypeError:\n",
    "                print(\"Error: Notas deben ser números separados por comas.\")\n",
    "       \n",
    "\n",
    "mejor_estudiante = sorted(estudiante_promedio, key=estudiante_promedio.get, reverse=True)[0]\n",
    "print(f\"Estudiante con mejor promedio: {mejor_estudiante}\")\n",
    "print(f\"Listado de Estudiantes: {estudiantes}\")\n",
    "print(f\"Listado de Estudiantes/Notas: {estudiante_notas}\")\n",
    "print(f\"Listado de Estudiantes/Promedios: {estudiante_promedio}\")\n",
    "print(f\"Listado de Estudiantes/Clasificación: {estudiante_clasificacion}\")\n"
   ]
  },
  {
   "cell_type": "code",
   "execution_count": null,
   "id": "daae49f2-1809-4a42-ab9d-0a9d5b9cc84a",
   "metadata": {},
   "outputs": [],
   "source": []
  }
 ],
 "metadata": {
  "kernelspec": {
   "display_name": "Python 3 (ipykernel)",
   "language": "python",
   "name": "python3"
  },
  "language_info": {
   "codemirror_mode": {
    "name": "ipython",
    "version": 3
   },
   "file_extension": ".py",
   "mimetype": "text/x-python",
   "name": "python",
   "nbconvert_exporter": "python",
   "pygments_lexer": "ipython3",
   "version": "3.13.5"
  }
 },
 "nbformat": 4,
 "nbformat_minor": 5
}
